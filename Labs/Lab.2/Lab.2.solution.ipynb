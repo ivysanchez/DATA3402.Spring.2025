{
 "cells": [
  {
   "cell_type": "markdown",
   "metadata": {},
   "source": [
    "## Lab 2- Tic Tac Toe\n",
    "\n",
    "In this lab your will build a n x n Tic Tac Toe game. As you do the exercises, make sure your solutions work for any size Tic Tac Toe game. "
   ]
  },
  {
   "cell_type": "markdown",
   "metadata": {},
   "source": [
    "*Exercise 1:* Write a function that creates an n by n matrix (of list of lists) which will represent the state of a Tie Tac Toe game. Let 0, 1, and 2 represent empty, \"X\", and \"O\", respectively.\n"
   ]
  },
  {
   "cell_type": "code",
   "execution_count": 447,
   "metadata": {},
   "outputs": [],
   "source": [
    "# Write you solution here\n",
    "\n",
    "def make_board(n):\n",
    "    board = [[0 for _ in range(n)] for _ in range(n)]\n",
    "    return board\n",
    "            "
   ]
  },
  {
   "cell_type": "code",
   "execution_count": 448,
   "metadata": {},
   "outputs": [
    {
     "data": {
      "text/plain": [
       "[[0, 0, 0, 0, 0, 0, 0, 0],\n",
       " [0, 0, 0, 0, 0, 0, 0, 0],\n",
       " [0, 0, 0, 0, 0, 0, 0, 0],\n",
       " [0, 0, 0, 0, 0, 0, 0, 0],\n",
       " [0, 0, 0, 0, 0, 0, 0, 0],\n",
       " [0, 0, 0, 0, 0, 0, 0, 0],\n",
       " [0, 0, 0, 0, 0, 0, 0, 0],\n",
       " [0, 0, 0, 0, 0, 0, 0, 0]]"
      ]
     },
     "execution_count": 448,
     "metadata": {},
     "output_type": "execute_result"
    }
   ],
   "source": [
    "# Test your solution here\n",
    "\n",
    "board_1=make_board(8)\n",
    "board_1"
   ]
  },
  {
   "cell_type": "markdown",
   "metadata": {},
   "source": [
    "*Exercise 2:* Write a function that takes 2 integers `n` and `m` as input and draws a `n` by `m` game board. For example the following is a 3x3 board:\n",
    "```\n",
    "   --- --- --- \n",
    "  |   |   |   | \n",
    "   --- --- ---  \n",
    "  |   |   |   | \n",
    "   --- --- ---  \n",
    "  |   |   |   | \n",
    "   --- --- --- \n",
    "   ```"
   ]
  },
  {
   "cell_type": "code",
   "execution_count": 449,
   "metadata": {},
   "outputs": [],
   "source": [
    "# Write you solution here\n",
    "\n",
    "def nm_board(n,m):\n",
    "    n= len(board)\n",
    "    for i in range(n):\n",
    "        print(\" ---\"*m)\n",
    "        print(\"|   \"*(m+1))\n",
    "        \n",
    "    print(\" ---\"*m)"
   ]
  },
  {
   "cell_type": "code",
   "execution_count": 450,
   "metadata": {},
   "outputs": [
    {
     "name": "stdout",
     "output_type": "stream",
     "text": [
      " --- --- ---\n",
      "|   |   |   |   \n",
      " --- --- ---\n",
      "|   |   |   |   \n",
      " --- --- ---\n",
      "|   |   |   |   \n",
      " --- --- ---\n"
     ]
    }
   ],
   "source": [
    "# Test your solution here\n",
    "\n",
    "nm_board(3,3)"
   ]
  },
  {
   "cell_type": "markdown",
   "metadata": {},
   "source": [
    "*Exercise 3:* Modify exercise 2, so that it takes a matrix of the form from exercise 1 and draws a tic-tac-tie board with \"X\"s and \"O\"s.  "
   ]
  },
  {
   "cell_type": "code",
   "execution_count": 451,
   "metadata": {},
   "outputs": [],
   "source": [
    "# Write you solution here\n",
    "\n",
    "def nm_board(board):\n",
    "    n = len(board)  \n",
    "    \n",
    "    for i in range(n):\n",
    "        print(\" ---\" * n)\n",
    "      \n",
    "        row = \"|\"  \n",
    "        for j in range(n):\n",
    "            value = board[i][j]\n",
    "            if value == 0:\n",
    "                row += \"   |\"  \n",
    "            elif value == 1:\n",
    "                row += \" X |\" \n",
    "            elif value == 2:\n",
    "                row += \" O |\" \n",
    "        print(row) \n",
    "    \n",
    "    print(\" ---\" * n) \n",
    "\n"
   ]
  },
  {
   "cell_type": "code",
   "execution_count": 452,
   "metadata": {},
   "outputs": [
    {
     "name": "stdout",
     "output_type": "stream",
     "text": [
      " --- --- ---\n",
      "| X |   | O |\n",
      " --- --- ---\n",
      "| O | X |   |\n",
      " --- --- ---\n",
      "|   | O | X |\n",
      " --- --- ---\n"
     ]
    }
   ],
   "source": [
    "# Test your solution here\n",
    "\n",
    "board_3= [[1,0,2],[2,1,0],[0,2,1]]\n",
    "nm_board(board_3)"
   ]
  },
  {
   "cell_type": "markdown",
   "metadata": {},
   "source": [
    "*Exercise 4:* Write a function that takes a `n` by `n` matrix representing a tic-tac-toe game, and returns -1, 0, 1, or 2 indicating the game is incomplete, the game is a draw, player 1 has won, or player 2 has one, respectively. Here are some example inputs you can use to test your code:"
   ]
  },
  {
   "cell_type": "code",
   "execution_count": 455,
   "metadata": {},
   "outputs": [],
   "source": [
    "# Write you solution here\n",
    "\n",
    "# corrected to solve Ex:10\n",
    "def game_stat(board,win_length):\n",
    "    n = len(board)\n",
    "\n",
    "    def check_line(line):\n",
    "        for i in range(len(line) - win_length + 1):\n",
    "            if all(line[i+k] == 1 for k in range(win_length)):\n",
    "                return 1\n",
    "            if all(line[i+k] == 2 for k in range(win_length)):\n",
    "                return 2\n",
    "        return 0  \n",
    "\n",
    "    for row in board:\n",
    "        result = check_line(row)\n",
    "        if result:\n",
    "            return result\n",
    "    for col in range(n):\n",
    "        result = check_line([board[row][col] for row in range(n)])\n",
    "        if result:\n",
    "            return result\n",
    "\n",
    "    result = check_line([board[i][i] for i in range(n)])\n",
    "    if result:\n",
    "        return result\n",
    "    result = check_line([board[i][n-1-i] for i in range(n)])\n",
    "    if result:\n",
    "        return result\n",
    "\n",
    "    if any(0 in row for row in board):\n",
    "        return -1\n",
    "    else: \n",
    "        return 0"
   ]
  },
  {
   "cell_type": "code",
   "execution_count": 456,
   "metadata": {},
   "outputs": [
    {
     "name": "stdout",
     "output_type": "stream",
     "text": [
      "the winner is 2\n",
      "the winner is 1\n",
      "the winner is -1\n"
     ]
    }
   ],
   "source": [
    "# Test your solution here\n",
    "\n",
    "# 2 won\n",
    "winner_is_2 = [[2, 2, 0], \n",
    "    [2, 1, 0], \n",
    "    [2, 1, 1]]\n",
    "print(\"the winner is\",game_stat(winner_is_2,3))\n",
    "\n",
    "# 1 won\n",
    "winner_is_1 = [[1, 2, 0], \n",
    "    [2, 1, 0],\n",
    "    [2, 1, 1]]\n",
    "print(\"the winner is\",game_stat(winner_is_1,3))\n",
    "\n",
    "# no winner\n",
    "no_winner = [[1, 2, 0], \n",
    "    [2, 1, 0], \n",
    "    [2, 1, 2]]\n",
    "print(\"the winner is\",game_stat(no_winner,3))\n"
   ]
  },
  {
   "cell_type": "code",
   "execution_count": 426,
   "metadata": {
    "collapsed": true,
    "jupyter": {
     "outputs_hidden": true,
     "source_hidden": true
    }
   },
   "outputs": [],
   "source": [
    "winner_is_2 = [[2, 2, 0],\n",
    "\t[2, 1, 0],\n",
    "\t[2, 1, 1]]\n",
    "\n",
    "winner_is_1 = [[1, 2, 0],\n",
    "\t[2, 1, 0],\n",
    "\t[2, 1, 1]]\n",
    "\n",
    "winner_is_also_1 = [[0, 1, 0],\n",
    "\t[2, 1, 0],\n",
    "\t[2, 1, 1]]\n",
    "\n",
    "no_winner = [[1, 2, 0],\n",
    "\t[2, 1, 0],\n",
    "\t[2, 1, 2]]\n",
    "\n",
    "also_no_winner = [[1, 2, 0],\n",
    "\t[2, 1, 0],\n",
    "\t[2, 1, 0]]"
   ]
  },
  {
   "cell_type": "markdown",
   "metadata": {},
   "source": [
    "*Exercise 5:* Write a function that takes a game board, player number, and `(x,y)` coordinates and places \"X\" or \"O\" in the correct location of the game board. Make sure that you only allow filling previously empty locations. Return `True` or `False` to indicate successful placement of \"X\" or \"O\"."
   ]
  },
  {
   "cell_type": "code",
   "execution_count": 457,
   "metadata": {},
   "outputs": [],
   "source": [
    "# Write you solution \n",
    "\n",
    "def player_move(board, player, x, y):\n",
    "    if board[x][y] == 0:  \n",
    "        board[x][y] = player \n",
    "        \n",
    "        return True\n",
    "    else:\n",
    "        return False \n",
    "\n",
    "move= player_move"
   ]
  },
  {
   "cell_type": "code",
   "execution_count": 458,
   "metadata": {},
   "outputs": [
    {
     "name": "stdout",
     "output_type": "stream",
     "text": [
      "True [[0, 0, 0], [0, 1, 0], [0, 0, 0]]\n",
      "False [[0, 0, 0], [0, 1, 0], [0, 0, 0]]\n"
     ]
    }
   ],
   "source": [
    "# Test your solution here\n",
    "\n",
    "board_5= [[0,0,0],\n",
    "    [0,0,0],\n",
    "    [0,0,0]]\n",
    "\n",
    "# true ex\n",
    "print(move(board_5, 1, 1,1),board_5)\n",
    "# false ex\n",
    "print(move(board_5, 2, 1, 1),board_5)"
   ]
  },
  {
   "cell_type": "markdown",
   "metadata": {},
   "source": [
    "*Exercise 6:* Modify Exercise 3 to show column and row labels so that players can specify location using \"A2\" or \"C1\"."
   ]
  },
  {
   "cell_type": "code",
   "execution_count": 459,
   "metadata": {},
   "outputs": [],
   "source": [
    "# Write you solution here\n",
    "\n",
    "def new_nm_board(board):\n",
    "    n = len(board)\n",
    "    row_name = list(\"ABCDEFGHIJKLMNOPQRSTUVWXYZ\")[:n]\n",
    "    row_map=dict(zip(row_name,range(n)))\n",
    "    col_name =list(map(str,range(1,n+1)))\n",
    "    col_map = dict(zip(col_name,range(n)))\n",
    "    player_number = {0: \" \", 1: \"X\", 2: \"O\"}\n",
    "    \n",
    "    col_header = \"   \" + \"    \".join(col_name)\n",
    "    print(col_header)\n",
    "    \n",
    "    for i in range(n):\n",
    "        print(\"  ---\" * n)\n",
    "        row = row_name[i] + \" |\"\n",
    "        for j in range(n):\n",
    "            row += f\" {player_number[board[i][j]]} |\"\n",
    "        print(row)\n",
    "    \n",
    "    print(\"  ---\" * n)"
   ]
  },
  {
   "cell_type": "code",
   "execution_count": 460,
   "metadata": {},
   "outputs": [
    {
     "name": "stdout",
     "output_type": "stream",
     "text": [
      "   1    2    3\n",
      "  ---  ---  ---\n",
      "A | X |   | O |\n",
      "  ---  ---  ---\n",
      "B | O | X |   |\n",
      "  ---  ---  ---\n",
      "C |   | O | X |\n",
      "  ---  ---  ---\n"
     ]
    }
   ],
   "source": [
    "# Test your solution here\n",
    "\n",
    "board_6 = [[1, 0, 2], \n",
    "    [2, 1, 0], \n",
    "    [0, 2, 1]]\n",
    "\n",
    "new_nm_board(board_6)"
   ]
  },
  {
   "cell_type": "markdown",
   "metadata": {},
   "source": [
    "*Exercise 7:* Write a function that takes a board, player number, and location specified as in exercise 6 and then calls exercise 5 to correctly modify the board.  "
   ]
  },
  {
   "cell_type": "code",
   "execution_count": 461,
   "metadata": {},
   "outputs": [],
   "source": [
    "# Write you solution here\n",
    "\n",
    "def player_move(board, player, location):\n",
    "    n = len(board)\n",
    "    row_name = list(\"ABCDEFGHIJKLMNOPQRSTUVWXYZ\")[:n]\n",
    "    row_map = dict(zip(row_name, range(n)))\n",
    "    col_name = list(map(str, range(1, n + 1)))\n",
    "    col_map = dict(zip(col_name, range(n)))\n",
    "    \n",
    "    def move_loc(l_string):\n",
    "        if not isinstance(l_string, str) or len(l_string) != 2:\n",
    "            print(\"Bad Input. Location must be a 2-character string.\")\n",
    "            return False\n",
    "\n",
    "        row, col = l_string[0].upper(), l_string[1:]\n",
    "\n",
    "        if row not in row_map or col not in col_map:\n",
    "            print(\"Invalid row or column.\")\n",
    "            return False\n",
    "\n",
    "        return row_map[row], col_map[col]\n",
    "\n",
    "    loc = move_loc(location)\n",
    "    if loc:\n",
    "        x, y = loc\n",
    "        if board[x][y] == 0:\n",
    "            board[x][y] = player\n",
    "            print(f'successful placement at {location}')\n",
    "            return True\n",
    "        else:\n",
    "            print(f'failed placement at {location}, spot filled')\n",
    "            return False"
   ]
  },
  {
   "cell_type": "code",
   "execution_count": 462,
   "metadata": {},
   "outputs": [
    {
     "name": "stdout",
     "output_type": "stream",
     "text": [
      "   1    2    3\n",
      "  ---  ---  ---\n",
      "A |   |   |   |\n",
      "  ---  ---  ---\n",
      "B |   |   |   |\n",
      "  ---  ---  ---\n",
      "C |   |   |   |\n",
      "  ---  ---  ---\n",
      "successful placement at B2\n",
      "True\n",
      "   1    2    3\n",
      "  ---  ---  ---\n",
      "A |   |   |   |\n",
      "  ---  ---  ---\n",
      "B |   | X |   |\n",
      "  ---  ---  ---\n",
      "C |   |   |   |\n",
      "  ---  ---  ---\n",
      "successful placement at A2\n",
      "True\n",
      "   1    2    3\n",
      "  ---  ---  ---\n",
      "A |   | O |   |\n",
      "  ---  ---  ---\n",
      "B |   | X |   |\n",
      "  ---  ---  ---\n",
      "C |   |   |   |\n",
      "  ---  ---  ---\n",
      "failed placement at A2, spot filled\n",
      "False\n"
     ]
    }
   ],
   "source": [
    "# Test your solution\n",
    "board_7= [[0,0,0],\n",
    "    [0,0,0],\n",
    "    [0,0,0]]\n",
    "\n",
    "new_nm_board(board_7)\n",
    "print(player_move(board_7, 1, \"B2\"))\n",
    "new_nm_board(board_7)\n",
    "print(player_move(board_7, 2, \"A2\"))\n",
    "new_nm_board(board_7)\n",
    "print(player_move(board_7, 1, \"A2\"))\n"
   ]
  },
  {
   "cell_type": "markdown",
   "metadata": {},
   "source": [
    "*Exercise 8:* Write a function is called with a board and player number, takes input from the player using python's `input`, and modifies the board using your function from exercise 7. Note that you should keep asking for input until you have gotten a valid input that results in a valid move."
   ]
  },
  {
   "cell_type": "code",
   "execution_count": 470,
   "metadata": {},
   "outputs": [],
   "source": [
    "# Write you solution here\n",
    "\n",
    "def get_player_move(board, player_number):\n",
    "    while True:\n",
    "        location = input(f\"\\nPlayer {player_number}, enter your move:  \")\n",
    "        if player_move(board, player_number, location):\n",
    "            break  \n",
    "        else:\n",
    "            print(\"Invalid move. Please try again.\")\n"
   ]
  },
  {
   "cell_type": "code",
   "execution_count": 472,
   "metadata": {},
   "outputs": [
    {
     "name": "stdout",
     "output_type": "stream",
     "text": [
      "   1    2    3\n",
      "  ---  ---  ---\n",
      "A |   |   |   |\n",
      "  ---  ---  ---\n",
      "B |   |   |   |\n",
      "  ---  ---  ---\n",
      "C |   |   |   |\n",
      "  ---  ---  ---\n"
     ]
    },
    {
     "name": "stdin",
     "output_type": "stream",
     "text": [
      "\n",
      "Player 1, enter your move:   A1\n"
     ]
    },
    {
     "name": "stdout",
     "output_type": "stream",
     "text": [
      "successful placement at A1\n",
      "   1    2    3\n",
      "  ---  ---  ---\n",
      "A | X |   |   |\n",
      "  ---  ---  ---\n",
      "B |   |   |   |\n",
      "  ---  ---  ---\n",
      "C |   |   |   |\n",
      "  ---  ---  ---\n"
     ]
    }
   ],
   "source": [
    "# Test your solution here\n",
    "\n",
    "board_8=[[0, 0, 0], [0, 0, 0], [0, 0, 0]]\n",
    "new_nm_board(board_8) \n",
    "\n",
    "get_player_move(board_8, 1) \n",
    "new_nm_board(board_8)"
   ]
  },
  {
   "cell_type": "markdown",
   "metadata": {},
   "source": [
    "*Exercise 9:* Use all of the previous exercises to implement a full tic-tac-toe game, where an appropriate board is drawn, 2 players are repeatedly asked for a location coordinates of where they wish to place a mark, and the game status is checked until a player wins or a draw occurs."
   ]
  },
  {
   "cell_type": "code",
   "execution_count": 473,
   "metadata": {},
   "outputs": [],
   "source": [
    "# Write you solution here\n",
    "\n",
    "def ttt_game(n=3):\n",
    "    print(\"Welcome to tic tac toe.\")\n",
    "    print(\"-----------------------\")\n",
    "\n",
    "    board_9= make_board(n)\n",
    "    new_nm_board(board_9)\n",
    "\n",
    "    c_player= 1\n",
    "\n",
    "    while True:\n",
    "        get_player_move(board_9, c_player)\n",
    "        new_nm_board(board_9)\n",
    "        status = game_stat(board_9,n)  \n",
    "            \n",
    "        if status == 1:\n",
    "            print(\"\\nPlayer 1 (X) wins!\\n\")\n",
    "            break\n",
    "        elif status == 2:\n",
    "            print(\"\\nPlayer 2 (O) wins!\\n\")\n",
    "            break\n",
    "        elif status == 0:\n",
    "            print(\"\\nIt's a draw!\\n\")\n",
    "            break\n",
    "\n",
    "        c_player = 3 - c_player \n"
   ]
  },
  {
   "cell_type": "code",
   "execution_count": 474,
   "metadata": {},
   "outputs": [
    {
     "name": "stdout",
     "output_type": "stream",
     "text": [
      "Welcome to tic tac toe.\n",
      "-----------------------\n",
      "   1    2    3\n",
      "  ---  ---  ---\n",
      "A |   |   |   |\n",
      "  ---  ---  ---\n",
      "B |   |   |   |\n",
      "  ---  ---  ---\n",
      "C |   |   |   |\n",
      "  ---  ---  ---\n"
     ]
    },
    {
     "name": "stdin",
     "output_type": "stream",
     "text": [
      "\n",
      "Player 1, enter your move:   A1\n"
     ]
    },
    {
     "name": "stdout",
     "output_type": "stream",
     "text": [
      "successful placement at A1\n",
      "   1    2    3\n",
      "  ---  ---  ---\n",
      "A | X |   |   |\n",
      "  ---  ---  ---\n",
      "B |   |   |   |\n",
      "  ---  ---  ---\n",
      "C |   |   |   |\n",
      "  ---  ---  ---\n"
     ]
    },
    {
     "name": "stdin",
     "output_type": "stream",
     "text": [
      "\n",
      "Player 2, enter your move:   A2\n"
     ]
    },
    {
     "name": "stdout",
     "output_type": "stream",
     "text": [
      "successful placement at A2\n",
      "   1    2    3\n",
      "  ---  ---  ---\n",
      "A | X | O |   |\n",
      "  ---  ---  ---\n",
      "B |   |   |   |\n",
      "  ---  ---  ---\n",
      "C |   |   |   |\n",
      "  ---  ---  ---\n"
     ]
    },
    {
     "name": "stdin",
     "output_type": "stream",
     "text": [
      "\n",
      "Player 1, enter your move:   B1\n"
     ]
    },
    {
     "name": "stdout",
     "output_type": "stream",
     "text": [
      "successful placement at B1\n",
      "   1    2    3\n",
      "  ---  ---  ---\n",
      "A | X | O |   |\n",
      "  ---  ---  ---\n",
      "B | X |   |   |\n",
      "  ---  ---  ---\n",
      "C |   |   |   |\n",
      "  ---  ---  ---\n"
     ]
    },
    {
     "name": "stdin",
     "output_type": "stream",
     "text": [
      "\n",
      "Player 2, enter your move:   B3\n"
     ]
    },
    {
     "name": "stdout",
     "output_type": "stream",
     "text": [
      "successful placement at B3\n",
      "   1    2    3\n",
      "  ---  ---  ---\n",
      "A | X | O |   |\n",
      "  ---  ---  ---\n",
      "B | X |   | O |\n",
      "  ---  ---  ---\n",
      "C |   |   |   |\n",
      "  ---  ---  ---\n"
     ]
    },
    {
     "name": "stdin",
     "output_type": "stream",
     "text": [
      "\n",
      "Player 1, enter your move:   C1\n"
     ]
    },
    {
     "name": "stdout",
     "output_type": "stream",
     "text": [
      "successful placement at C1\n",
      "   1    2    3\n",
      "  ---  ---  ---\n",
      "A | X | O |   |\n",
      "  ---  ---  ---\n",
      "B | X |   | O |\n",
      "  ---  ---  ---\n",
      "C | X |   |   |\n",
      "  ---  ---  ---\n",
      "\n",
      "Player 1 (X) wins!\n",
      "\n"
     ]
    }
   ],
   "source": [
    "# Test your solution here\n",
    "\n",
    "ttt_game()"
   ]
  },
  {
   "cell_type": "markdown",
   "metadata": {},
   "source": [
    "*Exercise 10:* Test that your game works for 5x5 Tic Tac Toe.  "
   ]
  },
  {
   "cell_type": "code",
   "execution_count": 475,
   "metadata": {},
   "outputs": [
    {
     "name": "stdout",
     "output_type": "stream",
     "text": [
      "Welcome to tic tac toe.\n",
      "-----------------------\n",
      "   1    2    3    4    5\n",
      "  ---  ---  ---  ---  ---\n",
      "A |   |   |   |   |   |\n",
      "  ---  ---  ---  ---  ---\n",
      "B |   |   |   |   |   |\n",
      "  ---  ---  ---  ---  ---\n",
      "C |   |   |   |   |   |\n",
      "  ---  ---  ---  ---  ---\n",
      "D |   |   |   |   |   |\n",
      "  ---  ---  ---  ---  ---\n",
      "E |   |   |   |   |   |\n",
      "  ---  ---  ---  ---  ---\n"
     ]
    },
    {
     "name": "stdin",
     "output_type": "stream",
     "text": [
      "\n",
      "Player 1, enter your move:   A1\n"
     ]
    },
    {
     "name": "stdout",
     "output_type": "stream",
     "text": [
      "successful placement at A1\n",
      "   1    2    3    4    5\n",
      "  ---  ---  ---  ---  ---\n",
      "A | X |   |   |   |   |\n",
      "  ---  ---  ---  ---  ---\n",
      "B |   |   |   |   |   |\n",
      "  ---  ---  ---  ---  ---\n",
      "C |   |   |   |   |   |\n",
      "  ---  ---  ---  ---  ---\n",
      "D |   |   |   |   |   |\n",
      "  ---  ---  ---  ---  ---\n",
      "E |   |   |   |   |   |\n",
      "  ---  ---  ---  ---  ---\n"
     ]
    },
    {
     "name": "stdin",
     "output_type": "stream",
     "text": [
      "\n",
      "Player 2, enter your move:   B2\n"
     ]
    },
    {
     "name": "stdout",
     "output_type": "stream",
     "text": [
      "successful placement at B2\n",
      "   1    2    3    4    5\n",
      "  ---  ---  ---  ---  ---\n",
      "A | X |   |   |   |   |\n",
      "  ---  ---  ---  ---  ---\n",
      "B |   | O |   |   |   |\n",
      "  ---  ---  ---  ---  ---\n",
      "C |   |   |   |   |   |\n",
      "  ---  ---  ---  ---  ---\n",
      "D |   |   |   |   |   |\n",
      "  ---  ---  ---  ---  ---\n",
      "E |   |   |   |   |   |\n",
      "  ---  ---  ---  ---  ---\n"
     ]
    },
    {
     "name": "stdin",
     "output_type": "stream",
     "text": [
      "\n",
      "Player 1, enter your move:   C3\n"
     ]
    },
    {
     "name": "stdout",
     "output_type": "stream",
     "text": [
      "successful placement at C3\n",
      "   1    2    3    4    5\n",
      "  ---  ---  ---  ---  ---\n",
      "A | X |   |   |   |   |\n",
      "  ---  ---  ---  ---  ---\n",
      "B |   | O |   |   |   |\n",
      "  ---  ---  ---  ---  ---\n",
      "C |   |   | X |   |   |\n",
      "  ---  ---  ---  ---  ---\n",
      "D |   |   |   |   |   |\n",
      "  ---  ---  ---  ---  ---\n",
      "E |   |   |   |   |   |\n",
      "  ---  ---  ---  ---  ---\n"
     ]
    },
    {
     "name": "stdin",
     "output_type": "stream",
     "text": [
      "\n",
      "Player 2, enter your move:   B3\n"
     ]
    },
    {
     "name": "stdout",
     "output_type": "stream",
     "text": [
      "successful placement at B3\n",
      "   1    2    3    4    5\n",
      "  ---  ---  ---  ---  ---\n",
      "A | X |   |   |   |   |\n",
      "  ---  ---  ---  ---  ---\n",
      "B |   | O | O |   |   |\n",
      "  ---  ---  ---  ---  ---\n",
      "C |   |   | X |   |   |\n",
      "  ---  ---  ---  ---  ---\n",
      "D |   |   |   |   |   |\n",
      "  ---  ---  ---  ---  ---\n",
      "E |   |   |   |   |   |\n",
      "  ---  ---  ---  ---  ---\n"
     ]
    },
    {
     "name": "stdin",
     "output_type": "stream",
     "text": [
      "\n",
      "Player 1, enter your move:   C1\n"
     ]
    },
    {
     "name": "stdout",
     "output_type": "stream",
     "text": [
      "successful placement at C1\n",
      "   1    2    3    4    5\n",
      "  ---  ---  ---  ---  ---\n",
      "A | X |   |   |   |   |\n",
      "  ---  ---  ---  ---  ---\n",
      "B |   | O | O |   |   |\n",
      "  ---  ---  ---  ---  ---\n",
      "C | X |   | X |   |   |\n",
      "  ---  ---  ---  ---  ---\n",
      "D |   |   |   |   |   |\n",
      "  ---  ---  ---  ---  ---\n",
      "E |   |   |   |   |   |\n",
      "  ---  ---  ---  ---  ---\n"
     ]
    },
    {
     "name": "stdin",
     "output_type": "stream",
     "text": [
      "\n",
      "Player 2, enter your move:   B5\n"
     ]
    },
    {
     "name": "stdout",
     "output_type": "stream",
     "text": [
      "successful placement at B5\n",
      "   1    2    3    4    5\n",
      "  ---  ---  ---  ---  ---\n",
      "A | X |   |   |   |   |\n",
      "  ---  ---  ---  ---  ---\n",
      "B |   | O | O |   | O |\n",
      "  ---  ---  ---  ---  ---\n",
      "C | X |   | X |   |   |\n",
      "  ---  ---  ---  ---  ---\n",
      "D |   |   |   |   |   |\n",
      "  ---  ---  ---  ---  ---\n",
      "E |   |   |   |   |   |\n",
      "  ---  ---  ---  ---  ---\n"
     ]
    },
    {
     "name": "stdin",
     "output_type": "stream",
     "text": [
      "\n",
      "Player 1, enter your move:   E5\n"
     ]
    },
    {
     "name": "stdout",
     "output_type": "stream",
     "text": [
      "successful placement at E5\n",
      "   1    2    3    4    5\n",
      "  ---  ---  ---  ---  ---\n",
      "A | X |   |   |   |   |\n",
      "  ---  ---  ---  ---  ---\n",
      "B |   | O | O |   | O |\n",
      "  ---  ---  ---  ---  ---\n",
      "C | X |   | X |   |   |\n",
      "  ---  ---  ---  ---  ---\n",
      "D |   |   |   |   |   |\n",
      "  ---  ---  ---  ---  ---\n",
      "E |   |   |   |   | X |\n",
      "  ---  ---  ---  ---  ---\n"
     ]
    },
    {
     "name": "stdin",
     "output_type": "stream",
     "text": [
      "\n",
      "Player 2, enter your move:   B1\n"
     ]
    },
    {
     "name": "stdout",
     "output_type": "stream",
     "text": [
      "successful placement at B1\n",
      "   1    2    3    4    5\n",
      "  ---  ---  ---  ---  ---\n",
      "A | X |   |   |   |   |\n",
      "  ---  ---  ---  ---  ---\n",
      "B | O | O | O |   | O |\n",
      "  ---  ---  ---  ---  ---\n",
      "C | X |   | X |   |   |\n",
      "  ---  ---  ---  ---  ---\n",
      "D |   |   |   |   |   |\n",
      "  ---  ---  ---  ---  ---\n",
      "E |   |   |   |   | X |\n",
      "  ---  ---  ---  ---  ---\n"
     ]
    },
    {
     "name": "stdin",
     "output_type": "stream",
     "text": [
      "\n",
      "Player 1, enter your move:   C2\n"
     ]
    },
    {
     "name": "stdout",
     "output_type": "stream",
     "text": [
      "successful placement at C2\n",
      "   1    2    3    4    5\n",
      "  ---  ---  ---  ---  ---\n",
      "A | X |   |   |   |   |\n",
      "  ---  ---  ---  ---  ---\n",
      "B | O | O | O |   | O |\n",
      "  ---  ---  ---  ---  ---\n",
      "C | X | X | X |   |   |\n",
      "  ---  ---  ---  ---  ---\n",
      "D |   |   |   |   |   |\n",
      "  ---  ---  ---  ---  ---\n",
      "E |   |   |   |   | X |\n",
      "  ---  ---  ---  ---  ---\n"
     ]
    },
    {
     "name": "stdin",
     "output_type": "stream",
     "text": [
      "\n",
      "Player 2, enter your move:   B4\n"
     ]
    },
    {
     "name": "stdout",
     "output_type": "stream",
     "text": [
      "successful placement at B4\n",
      "   1    2    3    4    5\n",
      "  ---  ---  ---  ---  ---\n",
      "A | X |   |   |   |   |\n",
      "  ---  ---  ---  ---  ---\n",
      "B | O | O | O | O | O |\n",
      "  ---  ---  ---  ---  ---\n",
      "C | X | X | X |   |   |\n",
      "  ---  ---  ---  ---  ---\n",
      "D |   |   |   |   |   |\n",
      "  ---  ---  ---  ---  ---\n",
      "E |   |   |   |   | X |\n",
      "  ---  ---  ---  ---  ---\n",
      "\n",
      "Player 2 (O) wins!\n",
      "\n"
     ]
    }
   ],
   "source": [
    "# Test your solution here\n",
    "\n",
    "ttt_game(5)"
   ]
  },
  {
   "cell_type": "markdown",
   "metadata": {},
   "source": [
    "*Exercise 11:* (Advanced / Challenge) Develop a version of the game where one player is the computer. Note that you don't need to do an extensive seach for the best move. You can have the computer simply protect against loosing and otherwise try to win with straight or diagonal patterns."
   ]
  },
  {
   "cell_type": "code",
   "execution_count": 476,
   "metadata": {},
   "outputs": [],
   "source": [
    "# Write you solution here\n",
    "\n",
    "def get_player_move(board, player_number):\n",
    "    if player_number == 1: \n",
    "        while True:\n",
    "            location = input(f\"Player {player_number}, enter your move:  \")\n",
    "            if player_move(board, player_number, location):\n",
    "                break\n",
    "            else:\n",
    "                print(\"Invalid move. Please try again.\")\n",
    "    else: \n",
    "        computer_move(board, player_number)\n",
    "\n",
    "def computer_move(board, player_number):\n",
    "    n = len(board)\n",
    "\n",
    "    for i in range(n):\n",
    "        for j in range(n):\n",
    "            if board[i][j] == 0:\n",
    "                board[i][j] = player_number \n",
    "                if game_stat(board, n) == player_number:\n",
    "                    print(f'successful placement at {chr(ord(\"A\") + i)}{j + 1}')\n",
    "                    return  \n",
    "                else:\n",
    "                    board[i][j] = 0  \n",
    "\n",
    "    opponent_number = 3 - player_number\n",
    "    for i in range(n):\n",
    "        for j in range(n):\n",
    "            if board[i][j] == 0:\n",
    "                board[i][j] = opponent_number \n",
    "                if game_stat(board, n) == opponent_number:\n",
    "                    board[i][j] = player_number  \n",
    "                    print(f'successful placement at {chr(ord(\"A\") + i)}{j + 1}')\n",
    "                    return\n",
    "                else:\n",
    "                    board[i][j] = 0 \n",
    "\n",
    "    import random\n",
    "    while True:\n",
    "        row = random.randint(0, n - 1)\n",
    "        col = random.randint(0, n - 1)\n",
    "        if board[row][col] == 0:\n",
    "            board[row][col] = player_number\n",
    "            print(f'successful placement at {chr(ord(\"A\") + row)}{col + 1}')\n",
    "            return\n",
    "            "
   ]
  },
  {
   "cell_type": "code",
   "execution_count": 477,
   "metadata": {},
   "outputs": [
    {
     "name": "stdout",
     "output_type": "stream",
     "text": [
      "Welcome to tic tac toe.\n",
      "-----------------------\n",
      "   1    2    3\n",
      "  ---  ---  ---\n",
      "A |   |   |   |\n",
      "  ---  ---  ---\n",
      "B |   |   |   |\n",
      "  ---  ---  ---\n",
      "C |   |   |   |\n",
      "  ---  ---  ---\n"
     ]
    },
    {
     "name": "stdin",
     "output_type": "stream",
     "text": [
      "Player 1, enter your move:   A1\n"
     ]
    },
    {
     "name": "stdout",
     "output_type": "stream",
     "text": [
      "successful placement at A1\n",
      "   1    2    3\n",
      "  ---  ---  ---\n",
      "A | X |   |   |\n",
      "  ---  ---  ---\n",
      "B |   |   |   |\n",
      "  ---  ---  ---\n",
      "C |   |   |   |\n",
      "  ---  ---  ---\n",
      "successful placement at C2\n",
      "   1    2    3\n",
      "  ---  ---  ---\n",
      "A | X |   |   |\n",
      "  ---  ---  ---\n",
      "B |   |   |   |\n",
      "  ---  ---  ---\n",
      "C |   | O |   |\n",
      "  ---  ---  ---\n"
     ]
    },
    {
     "name": "stdin",
     "output_type": "stream",
     "text": [
      "Player 1, enter your move:   B2\n"
     ]
    },
    {
     "name": "stdout",
     "output_type": "stream",
     "text": [
      "successful placement at B2\n",
      "   1    2    3\n",
      "  ---  ---  ---\n",
      "A | X |   |   |\n",
      "  ---  ---  ---\n",
      "B |   | X |   |\n",
      "  ---  ---  ---\n",
      "C |   | O |   |\n",
      "  ---  ---  ---\n",
      "successful placement at C3\n",
      "   1    2    3\n",
      "  ---  ---  ---\n",
      "A | X |   |   |\n",
      "  ---  ---  ---\n",
      "B |   | X |   |\n",
      "  ---  ---  ---\n",
      "C |   | O | O |\n",
      "  ---  ---  ---\n"
     ]
    },
    {
     "name": "stdin",
     "output_type": "stream",
     "text": [
      "Player 1, enter your move:   C1\n"
     ]
    },
    {
     "name": "stdout",
     "output_type": "stream",
     "text": [
      "successful placement at C1\n",
      "   1    2    3\n",
      "  ---  ---  ---\n",
      "A | X |   |   |\n",
      "  ---  ---  ---\n",
      "B |   | X |   |\n",
      "  ---  ---  ---\n",
      "C | X | O | O |\n",
      "  ---  ---  ---\n",
      "successful placement at A3\n",
      "   1    2    3\n",
      "  ---  ---  ---\n",
      "A | X |   | O |\n",
      "  ---  ---  ---\n",
      "B |   | X |   |\n",
      "  ---  ---  ---\n",
      "C | X | O | O |\n",
      "  ---  ---  ---\n"
     ]
    },
    {
     "name": "stdin",
     "output_type": "stream",
     "text": [
      "Player 1, enter your move:   B3\n"
     ]
    },
    {
     "name": "stdout",
     "output_type": "stream",
     "text": [
      "successful placement at B3\n",
      "   1    2    3\n",
      "  ---  ---  ---\n",
      "A | X |   | O |\n",
      "  ---  ---  ---\n",
      "B |   | X | X |\n",
      "  ---  ---  ---\n",
      "C | X | O | O |\n",
      "  ---  ---  ---\n",
      "successful placement at B1\n",
      "   1    2    3\n",
      "  ---  ---  ---\n",
      "A | X |   | O |\n",
      "  ---  ---  ---\n",
      "B | O | X | X |\n",
      "  ---  ---  ---\n",
      "C | X | O | O |\n",
      "  ---  ---  ---\n"
     ]
    },
    {
     "name": "stdin",
     "output_type": "stream",
     "text": [
      "Player 1, enter your move:   A2\n"
     ]
    },
    {
     "name": "stdout",
     "output_type": "stream",
     "text": [
      "successful placement at A2\n",
      "   1    2    3\n",
      "  ---  ---  ---\n",
      "A | X | X | O |\n",
      "  ---  ---  ---\n",
      "B | O | X | X |\n",
      "  ---  ---  ---\n",
      "C | X | O | O |\n",
      "  ---  ---  ---\n",
      "\n",
      "It's a draw!\n",
      "\n"
     ]
    }
   ],
   "source": [
    "# Test your solution here\n",
    "\n",
    "ttt_game()"
   ]
  },
  {
   "cell_type": "code",
   "execution_count": null,
   "metadata": {},
   "outputs": [],
   "source": []
  }
 ],
 "metadata": {
  "kernelspec": {
   "display_name": "Python 3 (ipykernel)",
   "language": "python",
   "name": "python3"
  },
  "language_info": {
   "codemirror_mode": {
    "name": "ipython",
    "version": 3
   },
   "file_extension": ".py",
   "mimetype": "text/x-python",
   "name": "python",
   "nbconvert_exporter": "python",
   "pygments_lexer": "ipython3",
   "version": "3.13.1"
  }
 },
 "nbformat": 4,
 "nbformat_minor": 4
}
