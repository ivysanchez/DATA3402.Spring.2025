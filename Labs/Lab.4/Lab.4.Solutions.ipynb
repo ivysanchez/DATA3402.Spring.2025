{
 "cells": [
  {
   "cell_type": "markdown",
   "metadata": {},
   "source": [
    "# Lab 4- Object Oriented Programming\n",
    "\n",
    "For all of the exercises below, make sure you provide tests of your solutions.\n"
   ]
  },
  {
   "cell_type": "markdown",
   "metadata": {},
   "source": [
    "1. Write a \"counter\" class that can be incremented up to a specified maximum value, will print an error if an attempt is made to increment beyond that value, and allows reseting the counter. "
   ]
  },
  {
   "cell_type": "code",
   "execution_count": 26,
   "metadata": {},
   "outputs": [],
   "source": [
    "class Counter:\n",
    "    def __init__(self, max_value):\n",
    "        self.max_value = max_value\n",
    "        self.current_value = 0\n",
    "\n",
    "    def increment(self):\n",
    "        if self.current_value < self.max_value:\n",
    "            self.current_value += 1\n",
    "        else:\n",
    "            print(\"\\nError: Counter has reached its maximum value.\")\n",
    "\n",
    "    def reset(self):\n",
    "        self.current_value = 0\n",
    "\n",
    "    def get_value(self):\n",
    "        return self.current_value\n",
    "    "
   ]
  },
  {
   "cell_type": "code",
   "execution_count": 27,
   "metadata": {},
   "outputs": [
    {
     "name": "stdout",
     "output_type": "stream",
     "text": [
      "New count: 1\n",
      "\n",
      "Error: Counter has reached its maximum value.\n",
      "Current count: 2\n",
      "\n",
      "New count: 0\n"
     ]
    }
   ],
   "source": [
    "# Testing Solution\n",
    "\n",
    "my_counter = Counter(2)  \n",
    "\n",
    "# incrementing count\n",
    "my_counter.increment() \n",
    "print(\"New count:\",my_counter.get_value()) \n",
    "\n",
    "# error statement\n",
    "my_counter.increment() \n",
    "my_counter.increment() \n",
    "print(\"Current count:\",my_counter.get_value()) \n",
    "\n",
    "# reset count \n",
    "my_counter.reset() \n",
    "print(\"\\nNew count:\",my_counter.get_value())\n"
   ]
  },
  {
   "cell_type": "markdown",
   "metadata": {},
   "source": [
    "2. Copy and paste your solution to question 1 and modify it so that all the data held by the counter is private. Implement functions to check the value of the counter, check the maximum value, and check if the counter is at the maximum."
   ]
  },
  {
   "cell_type": "code",
   "execution_count": 28,
   "metadata": {},
   "outputs": [],
   "source": [
    "class Counter:\n",
    "    def __init__(self, max_value):\n",
    "        self.__max_value = max_value\n",
    "        self.__current_value = 0\n",
    "\n",
    "    def increment(self):\n",
    "        if self.__current_value < self.__max_value:\n",
    "            self.__current_value += 1\n",
    "        else:\n",
    "            print(\"Error: Counter has reached its maximum value.\")\n",
    "\n",
    "    def reset(self):\n",
    "        self.__current_value = 0\n",
    "\n",
    "    def get_value(self):\n",
    "        return self.__current_value\n",
    "\n",
    "    def get_max_value(self):\n",
    "        return self.__max_value\n",
    "\n",
    "    def is_at_max(self):\n",
    "        return self.__current_value == self.__max_value"
   ]
  },
  {
   "cell_type": "code",
   "execution_count": 29,
   "metadata": {},
   "outputs": [
    {
     "name": "stdout",
     "output_type": "stream",
     "text": [
      "Current Value: 1\n",
      "Maximum Value: 2\n",
      "Is at Max: False\n",
      "Error: Counter has reached its maximum value.\n",
      "Current Value: 2\n",
      "Maximum Value: 2\n",
      "Is at Max: True\n"
     ]
    }
   ],
   "source": [
    "# Testing Solution\n",
    "\n",
    "my_counter = Counter(2)\n",
    "\n",
    "my_counter.increment()\n",
    "print(\"Current Value:\", my_counter.get_value())       \n",
    "print(\"Maximum Value:\", my_counter.get_max_value())   \n",
    "print(\"Is at Max:\", my_counter.is_at_max())   \n",
    "\n",
    "# increasing count 2x then rechecking values\n",
    "my_counter.increment()\n",
    "my_counter.increment()\n",
    "print(\"Current Value:\", my_counter.get_value())       \n",
    "print(\"Maximum Value:\", my_counter.get_max_value())   \n",
    "print(\"Is at Max:\", my_counter.is_at_max()) "
   ]
  },
  {
   "cell_type": "markdown",
   "metadata": {},
   "source": [
    "3. Implement a class to represent a rectangle, holding the length, width, and $x$ and $y$ coordinates of a corner of the object. Implement functions that compute the area and perimeter of the rectangle. Make all data members private and privide accessors to retrieve values of data members. "
   ]
  },
  {
   "cell_type": "code",
   "execution_count": 30,
   "metadata": {},
   "outputs": [],
   "source": [
    "class Rectangle:\n",
    "    def __init__(self, length, width, x, y):\n",
    "        self.__length = length\n",
    "        self.__width = width\n",
    "        self.__x = x\n",
    "        self.__y = y\n",
    "\n",
    "    def get_length(self):\n",
    "        return self.__length\n",
    "\n",
    "    def get_width(self):\n",
    "        return self.__width\n",
    "\n",
    "    def get_x(self):\n",
    "        return self.__x\n",
    "\n",
    "    def get_y(self):\n",
    "        return self.__y\n",
    "\n",
    "    def area(self):\n",
    "        return self.__length * self.__width\n",
    "\n",
    "    def perimeter(self):\n",
    "        return 2 * (self.__length + self.__width)"
   ]
  },
  {
   "cell_type": "code",
   "execution_count": 43,
   "metadata": {},
   "outputs": [
    {
     "name": "stdout",
     "output_type": "stream",
     "text": [
      "Length: 4 \n",
      "Width: 3\n",
      "X: 1 \n",
      "Y: 2\n",
      "Area: 12 \n",
      "Perimeter: 14\n"
     ]
    }
   ],
   "source": [
    "# Testing Solution\n",
    "\n",
    "my_rectangle = Rectangle(4, 3, 1, 2) \n",
    "\n",
    "print(f\"Length: {my_rectangle.get_length()} \\nWidth: {my_rectangle.get_width()}\")   \n",
    "print(f\"X: {my_rectangle.get_x()} \\nY: {my_rectangle.get_y()}\")         \n",
    "print(f\"Area: {my_rectangle.area()} \\nPerimeter: {my_rectangle.perimeter()}\") "
   ]
  },
  {
   "cell_type": "markdown",
   "metadata": {},
   "source": [
    "4. Implement a class to represent a circle, holding the radius and $x$ and $y$ coordinates of center of the object. Implement functions that compute the area and perimeter of the rectangle. Make all data members private and privide accessors to retrieve values of data members. "
   ]
  },
  {
   "cell_type": "code",
   "execution_count": 35,
   "metadata": {},
   "outputs": [],
   "source": [
    "import math\n",
    "class Circle:\n",
    "    def __init__(self, radius, x, y):\n",
    "        self.__radius = radius\n",
    "        self.__x = x\n",
    "        self.__y = y\n",
    "\n",
    "    def get_radius(self):\n",
    "        return self.__radius\n",
    "\n",
    "    def get_x(self):\n",
    "        return self.__x\n",
    "\n",
    "    def get_y(self):\n",
    "        return self.__y\n",
    "\n",
    "    def area(self):\n",
    "        return math.pi * (self.__radius ** 2)\n",
    "\n",
    "    def perimeter(self):\n",
    "        return 2 * math.pi * self.__radius"
   ]
  },
  {
   "cell_type": "code",
   "execution_count": 44,
   "metadata": {},
   "outputs": [
    {
     "name": "stdout",
     "output_type": "stream",
     "text": [
      "Radius: 5 \n",
      "Center: (1,2)\n",
      "Area: 78.53981633974483 \n",
      "Perimeter: 31.41592653589793\n"
     ]
    }
   ],
   "source": [
    "# Testing Solution\n",
    "\n",
    "my_circle = Circle(5, 1, 2) \n",
    "\n",
    "print(f\"Radius: {my_circle.get_radius()} \\nCenter: ({my_circle.get_x()},{my_circle.get_y()})\")\n",
    "print(f\"Area: {my_circle.area()} \\nPerimeter: {my_circle.perimeter()}\")"
   ]
  },
  {
   "cell_type": "markdown",
   "metadata": {},
   "source": [
    "5. Implement a common base class for the classes implemented in 3 and 4 above which implements all common methods as not implemented functions (virtual). Re-implement your regtangle and circule classes to inherit from the base class and overload the functions accordingly. "
   ]
  },
  {
   "cell_type": "code",
   "execution_count": 40,
   "metadata": {},
   "outputs": [],
   "source": [
    "from abc import ABC, abstractmethod\n",
    "\n",
    "class Shape(ABC):  # Abstract Base Class\n",
    "    def __init__(self, x, y):\n",
    "        self.__x = x\n",
    "        self.__y = y\n",
    "\n",
    "    def get_x(self):\n",
    "        return self.__x\n",
    "\n",
    "    def get_y(self):\n",
    "        return self.__y\n",
    "\n",
    "    @abstractmethod\n",
    "    def area(self):\n",
    "        pass\n",
    "\n",
    "    @abstractmethod\n",
    "    def perimeter(self):\n",
    "        pass\n",
    "\n",
    "\n",
    "class Rectangle(Shape):\n",
    "    def __init__(self, length, width, x, y):\n",
    "        super().__init__(x, y)\n",
    "        self.__length = length\n",
    "        self.__width = width\n",
    "\n",
    "    def get_length(self):\n",
    "        return self.__length\n",
    "\n",
    "    def get_width(self):\n",
    "        return self.__width\n",
    "\n",
    "    def area(self):\n",
    "        return self.__length * self.__width\n",
    "\n",
    "    def perimeter(self):\n",
    "        return 2 * (self.__length + self.__width)\n",
    "\n",
    "\n",
    "class Circle(Shape):\n",
    "    def __init__(self, radius, x, y):\n",
    "        super().__init__(x, y)\n",
    "        self.__radius = radius\n",
    "\n",
    "    def get_radius(self):\n",
    "        return self.__radius\n",
    "\n",
    "    def area(self):\n",
    "        return math.pi * (self.__radius ** 2)\n",
    "\n",
    "    def perimeter(self):\n",
    "        return 2 * math.pi * self.__radius"
   ]
  },
  {
   "cell_type": "code",
   "execution_count": 45,
   "metadata": {},
   "outputs": [
    {
     "name": "stdout",
     "output_type": "stream",
     "text": [
      "Rectangle Area: 12\n",
      "Rectangle Perimeter: 14\n",
      "Circle Area: 78.53981633974483\n",
      "Circle Perimeter: 31.41592653589793\n"
     ]
    }
   ],
   "source": [
    "# Testing Solution\n",
    "\n",
    "# using previous numbers--output same as 3 and 4\n",
    "my_rectangle = Rectangle(4, 3, 1, 2)  \n",
    "my_circle = Circle(5, 1, 2)  \n",
    "\n",
    "print(\"Rectangle Area:\", my_rectangle.area())  \n",
    "print(\"Rectangle Perimeter:\", my_rectangle.perimeter())  \n",
    "print(\"Circle Area:\", my_circle.area())  \n",
    "print(\"Circle Perimeter:\", my_circle.perimeter())"
   ]
  },
  {
   "cell_type": "code",
   "execution_count": null,
   "metadata": {},
   "outputs": [],
   "source": []
  },
  {
   "cell_type": "markdown",
   "metadata": {},
   "source": [
    "6. Implement a triangle class analogous to the rectangle and circle in question 5."
   ]
  },
  {
   "cell_type": "code",
   "execution_count": 46,
   "metadata": {},
   "outputs": [],
   "source": [
    "class Shape(ABC):  # Abstract Base Class\n",
    "    def __init__(self, x, y):\n",
    "        self.__x = x\n",
    "        self.__y = y\n",
    "\n",
    "    def get_x(self):\n",
    "        return self.__x\n",
    "\n",
    "    def get_y(self):\n",
    "        return self.__y\n",
    "\n",
    "    @abstractmethod\n",
    "    def area(self):\n",
    "        pass\n",
    "\n",
    "    @abstractmethod\n",
    "    def perimeter(self):\n",
    "        pass\n",
    "\n",
    "class Rectangle(Shape):\n",
    "    def __init__(self, length, width, x, y):\n",
    "        super().__init__(x, y)\n",
    "        self.__length = length\n",
    "        self.__width = width\n",
    "\n",
    "    def get_length(self):\n",
    "        return self.__length\n",
    "\n",
    "    def get_width(self):\n",
    "        return self.__width\n",
    "\n",
    "    def area(self):\n",
    "        return self.__length * self.__width\n",
    "\n",
    "    def perimeter(self):\n",
    "        return 2 * (self.__length + self.__width)\n",
    "\n",
    "class Circle(Shape):\n",
    "    def __init__(self, radius, x, y):\n",
    "        super().__init__(x, y)\n",
    "        self.__radius = radius\n",
    "\n",
    "    def get_radius(self):\n",
    "        return self.__radius\n",
    "\n",
    "    def area(self):\n",
    "        return math.pi * (self.__radius ** 2)\n",
    "\n",
    "    def perimeter(self):\n",
    "        return 2 * math.pi * self.__radius\n",
    "\n",
    "\n",
    "## implemented class\n",
    "\n",
    "class Triangle(Shape):\n",
    "    def __init__(self, a, b, c, x, y):\n",
    "        super().__init__(x, y)\n",
    "        self.__a = a\n",
    "        self.__b = b\n",
    "        self.__c = c\n",
    "\n",
    "    def get_a(self):\n",
    "        return self.__a\n",
    "\n",
    "    def get_b(self):\n",
    "        return self.__b\n",
    "\n",
    "    def get_c(self):\n",
    "        return self.__c\n",
    "\n",
    "    def area(self):\n",
    "        s = (self.__a + self.__b + self.__c) / 2\n",
    "        return math.sqrt(s * (s - self.__a) * (s - self.__b) * (s - self.__c))\n",
    "\n",
    "    def perimeter(self):\n",
    "        return self.__a + self.__b + self.__c"
   ]
  },
  {
   "cell_type": "code",
   "execution_count": 47,
   "metadata": {},
   "outputs": [
    {
     "name": "stdout",
     "output_type": "stream",
     "text": [
      "Triangle Area: 6.0\n",
      "Triangle Perimeter: 12\n"
     ]
    }
   ],
   "source": [
    "# Testing Solution\n",
    "\n",
    "my_triangle = Triangle(3, 4, 5, 1, 2)\n",
    "\n",
    "print(\"Triangle Area:\", my_triangle.area())  \n",
    "print(\"Triangle Perimeter:\", my_triangle.perimeter())"
   ]
  },
  {
   "cell_type": "markdown",
   "metadata": {},
   "source": [
    "7. Add a function to the object classes, including the base, that returns a list of up to 16 pairs of  $x$ and $y$ points on the parameter of the object. "
   ]
  },
  {
   "cell_type": "code",
   "execution_count": 48,
   "metadata": {},
   "outputs": [],
   "source": [
    "class Shape(ABC):  # Abstract Base Class\n",
    "    def __init__(self, x, y):\n",
    "        self.__x = x\n",
    "        self.__y = y\n",
    "    def get_x(self):\n",
    "        return self.__x\n",
    "    def get_y(self):\n",
    "        return self.__y\n",
    "    @abstractmethod\n",
    "    def area(self):\n",
    "        pass\n",
    "    @abstractmethod\n",
    "    def perimeter(self):\n",
    "        pass\n",
    "    @abstractmethod\n",
    "    def get_perimeter_points(self):\n",
    "        pass\n",
    "\n",
    "class Rectangle(Shape):\n",
    "    def __init__(self, length, width, x, y):\n",
    "        super().__init__(x, y)\n",
    "        self.__length = length\n",
    "        self.__width = width\n",
    "    def get_length(self):\n",
    "        return self.__length\n",
    "    def get_width(self):\n",
    "        return self.__width\n",
    "    def area(self):\n",
    "        return self.__length * self.__width\n",
    "    def perimeter(self):\n",
    "        return 2 * (self.__length + self.__width)\n",
    "# new function\n",
    "    def get_perimeter_points(self):\n",
    "        x, y = self.get_x(), self.get_y()\n",
    "        length, width = self.get_length(), self.get_width()\n",
    "        points = []\n",
    "        for i in range(16):\n",
    "            perimeter_fraction = i / 16  \n",
    "            if 0 <= perimeter_fraction < 0.25:  # Top edge\n",
    "                points.append((x + perimeter_fraction * 4 * length, y))\n",
    "            elif 0.25 <= perimeter_fraction < 0.5:  # right edge\n",
    "                points.append((x + length, y + (perimeter_fraction - 0.25) * 4 * width))\n",
    "            elif 0.5 <= perimeter_fraction < 0.75:  # bottom edge\n",
    "                points.append((x + length - (perimeter_fraction - 0.5) * 4 * length, y + width))\n",
    "            else:  # left edge\n",
    "                points.append((x, y + width - (perimeter_fraction - 0.75) * 4 * width))\n",
    "        return points\n",
    "\n",
    "class Circle(Shape):\n",
    "    def __init__(self, radius, x, y):\n",
    "        super().__init__(x, y)\n",
    "        self.__radius = radius\n",
    "    def get_radius(self):\n",
    "        return self.__radius\n",
    "    def area(self):\n",
    "        return math.pi * (self.__radius ** 2)\n",
    "    def perimeter(self):\n",
    "        return 2 * math.pi * self.__radius\n",
    "# new function\n",
    "    def get_perimeter_points(self):\n",
    "        x, y = self.get_x(), self.get_y()\n",
    "        radius = self.get_radius()\n",
    "        points = []\n",
    "        for i in range(16):\n",
    "            angle = 2 * math.pi * i / 16 \n",
    "            points.append((x + radius * math.cos(angle), y + radius * math.sin(angle)))\n",
    "        return points\n",
    "\n",
    "class Triangle(Shape):\n",
    "    def __init__(self, a, b, c, x, y):\n",
    "        super().__init__(x, y)\n",
    "        self.__a = a\n",
    "        self.__b = b\n",
    "        self.__c = c\n",
    "    def get_a(self):\n",
    "        return self.__a\n",
    "    def get_b(self):\n",
    "        return self.__b\n",
    "    def get_c(self):\n",
    "        return self.__c\n",
    "    def area(self):\n",
    "        s = (self.__a + self.__b + self.__c) / 2\n",
    "        return math.sqrt(s * (s - self.__a) * (s - self.__b) * (s - self.__c))\n",
    "    def perimeter(self):\n",
    "        return self.__a + self.__b + self.__c\n",
    "# new function\n",
    "    def get_perimeter_points(self):\n",
    "        x, y = self.get_x(), self.get_y()\n",
    "        a, b, c = self.get_a(), self.get_b(), self.get_c()\n",
    "        points = []\n",
    "        #side a\n",
    "        for i in range(int(16*a/(a+b+c))):\n",
    "            points.append((x + i*a/int(16*a/(a+b+c)), y))\n",
    "        #Side b    \n",
    "        for i in range(int(16*b/(a+b+c))):\n",
    "            points.append((x + a - i*a/int(16*b/(a+b+c)), y + i*b/int(16*b/(a+b+c))))\n",
    "        #side c\n",
    "        for i in range(int(16*c/(a+b+c))):\n",
    "            points.append((x + (int(16*c/(a+b+c)) - i)*a/int(16*c/(a+b+c)), y + (int(16*c/(a+b+c))-i)*b/int(16*c/(a+b+c))))\n",
    "        return points\n"
   ]
  },
  {
   "cell_type": "code",
   "execution_count": 49,
   "metadata": {},
   "outputs": [
    {
     "name": "stdout",
     "output_type": "stream",
     "text": [
      "Rectangle Perimeter Points: [(1.0, 2), (2.0, 2), (3.0, 2), (4.0, 2), (5, 2.0), (5, 2.75), (5, 3.5), (5, 4.25), (5.0, 5), (4.0, 5), (3.0, 5), (2.0, 5), (1, 5.0), (1, 4.25), (1, 3.5), (1, 2.75)]\n",
      "\n",
      "Circle Perimeter Points: [(6.0, 2.0), (5.619397662556434, 3.913417161825449), (4.535533905932738, 5.535533905932738), (2.913417161825449, 6.619397662556434), (1.0000000000000002, 7.0), (-0.9134171618254485, 6.619397662556434), (-2.5355339059327373, 5.535533905932738), (-3.619397662556434, 3.9134171618254494), (-4.0, 2.0000000000000004), (-3.619397662556434, 0.0865828381745517), (-2.5355339059327386, -1.5355339059327373), (-0.9134171618254516, -2.619397662556432), (0.9999999999999991, -3.0), (2.91341716182545, -2.619397662556433), (4.535533905932737, -1.5355339059327386), (5.619397662556432, 0.08658283817454793)]\n",
      "\n",
      "Triangle Perimeter Points: [(1.0, 2), (1.75, 2), (2.5, 2), (3.25, 2), (4.0, 2.0), (3.4, 2.8), (2.8, 3.6), (2.2, 4.4), (1.6, 5.2), (4.0, 6.0), (3.5, 5.333333333333334), (3.0, 4.666666666666666), (2.5, 4.0), (2.0, 3.333333333333333), (1.5, 2.6666666666666665)]\n"
     ]
    }
   ],
   "source": [
    "# Testing Solution\n",
    "\n",
    "my_rectangle = Rectangle(4, 3, 1, 2)\n",
    "pointsrec = my_rectangle.get_perimeter_points()\n",
    "print(\"Rectangle Perimeter Points:\", pointsrec) \n",
    "\n",
    "my_circle = Circle(5, 1, 2)\n",
    "pointscir = my_circle.get_perimeter_points()\n",
    "print(\"\\nCircle Perimeter Points:\", pointscir)  \n",
    "\n",
    "my_triangle = Triangle(3, 4, 5, 1, 2)\n",
    "pointstri = my_triangle.get_perimeter_points()\n",
    "print(\"\\nTriangle Perimeter Points:\", pointstri)"
   ]
  },
  {
   "cell_type": "markdown",
   "metadata": {},
   "source": [
    "8. Add a function to the object classes, including the base, that tests if a given set of $x$ and $y$ coordinates are inside of the object. You'll have to think through how to determine if a set of coordinates are inside an object for each object type."
   ]
  },
  {
   "cell_type": "code",
   "execution_count": 54,
   "metadata": {},
   "outputs": [],
   "source": [
    "class Shape(ABC):  # Abstract Base Class\n",
    "    def __init__(self, x, y):\n",
    "        self.__x = x\n",
    "        self.__y = y\n",
    "    def get_x(self):\n",
    "        return self.__x\n",
    "    def get_y(self):\n",
    "        return self.__y\n",
    "    @abstractmethod\n",
    "    def area(self):\n",
    "        pass\n",
    "    @abstractmethod\n",
    "    def perimeter(self):\n",
    "        pass\n",
    "    @abstractmethod\n",
    "    def get_perimeter_points(self):\n",
    "        pass\n",
    "# new func\n",
    "    @abstractmethod\n",
    "    def is_inside(self, x, y):\n",
    "        pass\n",
    "\n",
    "class Rectangle(Shape):\n",
    "    def __init__(self, length, width, x, y):\n",
    "        super().__init__(x, y)\n",
    "        self.__length = length\n",
    "        self.__width = width\n",
    "    def get_length(self):\n",
    "        return self.__length\n",
    "    def get_width(self):\n",
    "        return self.__width\n",
    "    def area(self):\n",
    "        return self.__length * self.__width\n",
    "    def perimeter(self):\n",
    "        return 2 * (self.__length + self.__width)\n",
    "    def get_perimeter_points(self):\n",
    "        x, y = self.get_x(), self.get_y()\n",
    "        length, width = self.get_length(), self.get_width()\n",
    "        points = []\n",
    "        for i in range(16):\n",
    "            perimeter_fraction = i / 16  \n",
    "            if 0 <= perimeter_fraction < 0.25:  # Top edge\n",
    "                points.append((x + perimeter_fraction * 4 * length, y))\n",
    "            elif 0.25 <= perimeter_fraction < 0.5:  # right edge\n",
    "                points.append((x + length, y + (perimeter_fraction - 0.25) * 4 * width))\n",
    "            elif 0.5 <= perimeter_fraction < 0.75:  # bottom edge\n",
    "                points.append((x + length - (perimeter_fraction - 0.5) * 4 * length, y + width))\n",
    "            else:  # left edge\n",
    "                points.append((x, y + width - (perimeter_fraction - 0.75) * 4 * width))\n",
    "        return points\n",
    "# new func\n",
    "    def is_inside(self, x, y):\n",
    "        return x >= self.get_x() and x <= self.get_x() + self.get_length() and y >= self.get_y() and y <= self.get_y() + self.get_width()\n",
    "\n",
    "class Circle(Shape):\n",
    "    def __init__(self, radius, x, y):\n",
    "        super().__init__(x, y)\n",
    "        self.__radius = radius\n",
    "    def get_radius(self):\n",
    "        return self.__radius\n",
    "    def area(self):\n",
    "        return math.pi * (self.__radius ** 2)\n",
    "    def perimeter(self):\n",
    "        return 2 * math.pi * self.__radius\n",
    "    def get_perimeter_points(self):\n",
    "        x, y = self.get_x(), self.get_y()\n",
    "        radius = self.get_radius()\n",
    "        points = []\n",
    "        for i in range(16):\n",
    "            angle = 2 * math.pi * i / 16 \n",
    "            points.append((x + radius * math.cos(angle), y + radius * math.sin(angle)))\n",
    "        return points\n",
    "# new func\n",
    "    def is_inside(self, x, y):\n",
    "        return (x - self.get_x())**2 + (y - self.get_y())**2 <= self.get_radius()**2\n",
    "\n",
    "class Triangle(Shape):\n",
    "    def __init__(self, a, b, c, x, y):\n",
    "        super().__init__(x, y)\n",
    "        self.__a = a\n",
    "        self.__b = b\n",
    "        self.__c = c\n",
    "    def get_a(self):\n",
    "        return self.__a\n",
    "    def get_b(self):\n",
    "        return self.__b\n",
    "    def get_c(self):\n",
    "        return self.__c\n",
    "    def area(self):\n",
    "        s = (self.__a + self.__b + self.__c) / 2\n",
    "        return math.sqrt(s * (s - self.__a) * (s - self.__b) * (s - self.__c))\n",
    "    def perimeter(self):\n",
    "        return self.__a + self.__b + self.__c\n",
    "    def get_perimeter_points(self):\n",
    "        x, y = self.get_x(), self.get_y()\n",
    "        a, b, c = self.get_a(), self.get_b(), self.get_c()\n",
    "        points = []\n",
    "        #side a\n",
    "        for i in range(int(16*a/(a+b+c))):\n",
    "            points.append((x + i*a/int(16*a/(a+b+c)), y))\n",
    "        #Side b    \n",
    "        for i in range(int(16*b/(a+b+c))):\n",
    "            points.append((x + a - i*a/int(16*b/(a+b+c)), y + i*b/int(16*b/(a+b+c))))\n",
    "        #side c\n",
    "        for i in range(int(16*c/(a+b+c))):\n",
    "            points.append((x + (int(16*c/(a+b+c)) - i)*a/int(16*c/(a+b+c)), y + (int(16*c/(a+b+c))-i)*b/int(16*c/(a+b+c))))\n",
    "        return points\n",
    "# new func\n",
    "    def is_inside(self, x, y):\n",
    "        x0, y0 = self.get_x(), self.get_y()\n",
    "        a, b, c = self.get_a(), self.get_b(), self.get_c()\n",
    "\n",
    "        denominator = -b * -c - (-a) * (-b - c) \n",
    "        if denominator == 0:\n",
    "            return False\n",
    "\n",
    "        alpha = (-b * (x - x0 - c) - (-a) * (y - y0 - b - c)) / denominator\n",
    "        beta = ((y0 - y - c) * (-a) - (x0 - x - a) * (-b)) / denominator\n",
    "        gamma = 1 - alpha - beta\n",
    "\n",
    "        return 0 <= alpha <= 1 and 0 <= beta <= 1 and 0 <= gamma <= 1"
   ]
  },
  {
   "cell_type": "code",
   "execution_count": 55,
   "metadata": {},
   "outputs": [
    {
     "name": "stdout",
     "output_type": "stream",
     "text": [
      "Point (3, 2) is inside the circle: True\n",
      "Point (3, 4) is inside the circle: True\n",
      "Point (2, 3) is inside the triangle: False\n"
     ]
    }
   ],
   "source": [
    "# Testing\n",
    "\n",
    "my_rectangle = Rectangle(4, 3, 1, 2)\n",
    "inrec = my_rectangle.is_inside(3, 2)  # Check if point (3, 2.5) is inside\n",
    "print(f\"Point (3, 2) is inside the circle: {inrec}\")  # Output: True\n",
    "\n",
    "my_circle = Circle(5, 1, 2) \n",
    "incir = my_circle.is_inside(3, 4) \n",
    "print(f\"Point (3, 4) is inside the circle: {incir}\")\n",
    "\n",
    "\n",
    "my_triangle = Triangle(3, 4, 5, 1, 2) \n",
    "intri = my_triangle.is_inside(2, 3) \n",
    "print(f\"Point (2, 3) is inside the triangle: {intri}\")"
   ]
  },
  {
   "cell_type": "markdown",
   "metadata": {},
   "source": [
    "9. Add a function in the base class of the object classes that returns true/false testing that the object overlaps with another object."
   ]
  },
  {
   "cell_type": "code",
   "execution_count": 63,
   "metadata": {},
   "outputs": [],
   "source": [
    "class Shape(ABC):\n",
    "    def __init__(self, x, y):\n",
    "        self.__x = x\n",
    "        self.__y = y\n",
    "    def get_x(self):\n",
    "        return self.__x\n",
    "    def get_y(self):\n",
    "        return self.__y\n",
    "    @abstractmethod\n",
    "    def area(self):\n",
    "        pass\n",
    "    @abstractmethod\n",
    "    def perimeter(self):\n",
    "        pass\n",
    "    @abstractmethod\n",
    "    def get_perimeter_points(self):\n",
    "        pass\n",
    "    @abstractmethod\n",
    "    def is_inside(self, x, y):\n",
    "        pass\n",
    "# new func\n",
    "    def overlaps(self, other):\n",
    "        self_perimeter_points = self.get_perimeter_points()\n",
    "        other_perimeter_points = other.get_perimeter_points()\n",
    "\n",
    "        for point in self_perimeter_points:\n",
    "            if other.is_inside(point[0], point[1]):\n",
    "                return True\n",
    "        for point in other_perimeter_points:\n",
    "            if self.is_inside(point[0], point[1]):\n",
    "                return True\n",
    "        return False\n",
    "\n",
    "\n",
    "class Rectangle(Shape):\n",
    "    def __init__(self, length, width, x, y):\n",
    "        super().__init__(x, y)\n",
    "        self.__length = length\n",
    "        self.__width = width\n",
    "    def get_length(self):\n",
    "        return self.__length\n",
    "    def get_width(self):\n",
    "        return self.__width\n",
    "    def area(self):\n",
    "        return self.__length * self.__width\n",
    "    def perimeter(self):\n",
    "        return 2 * (self.__length + self.__width)\n",
    "    def get_perimeter_points(self):\n",
    "        x, y = self.get_x(), self.get_y()\n",
    "        length, width = self.get_length(), self.get_width()\n",
    "        points = []\n",
    "        for i in range(16):\n",
    "            perimeter_fraction = i / 16  \n",
    "            if 0 <= perimeter_fraction < 0.25:  \n",
    "                points.append((x + perimeter_fraction * 4 * length, y))\n",
    "            elif 0.25 <= perimeter_fraction < 0.5:  \n",
    "                points.append((x + length, y + (perimeter_fraction - 0.25) * 4 * width))\n",
    "            elif 0.5 <= perimeter_fraction < 0.75: \n",
    "                points.append((x + length - (perimeter_fraction - 0.5) * 4 * length, y + width))\n",
    "            else:  \n",
    "                points.append((x, y + width - (perimeter_fraction - 0.75) * 4 * width))\n",
    "        return points\n",
    "    def is_inside(self, x, y):\n",
    "        return x >= self.get_x() and x <= self.get_x() + self.get_length() and y >= self.get_y() and y <= self.get_y() + self.get_width()\n",
    "\n",
    "class Circle(Shape):\n",
    "    def __init__(self, radius, x, y):\n",
    "        super().__init__(x, y)\n",
    "        self.__radius = radius\n",
    "    def get_radius(self):\n",
    "        return self.__radius\n",
    "    def area(self):\n",
    "        return math.pi * (self.__radius ** 2)\n",
    "    def perimeter(self):\n",
    "        return 2 * math.pi * self.__radius\n",
    "    def get_perimeter_points(self):\n",
    "        x, y = self.get_x(), self.get_y()\n",
    "        radius = self.get_radius()\n",
    "        points = []\n",
    "        for i in range(16):\n",
    "            angle = 2 * math.pi * i / 16 \n",
    "            points.append((x + radius * math.cos(angle), y + radius * math.sin(angle)))\n",
    "        return points\n",
    "    def is_inside(self, x, y):\n",
    "        return (x - self.get_x())**2 + (y - self.get_y())**2 <= self.get_radius()**2\n",
    "\n",
    "class Triangle(Shape):\n",
    "    def __init__(self, a, b, c, x, y):\n",
    "        super().__init__(x, y)\n",
    "        self.__a = a\n",
    "        self.__b = b\n",
    "        self.__c = c\n",
    "    def get_a(self):\n",
    "        return self.__a\n",
    "    def get_b(self):\n",
    "        return self.__b\n",
    "    def get_c(self):\n",
    "        return self.__c\n",
    "    def area(self):\n",
    "        s = (self.__a + self.__b + self.__c) / 2\n",
    "        return math.sqrt(s * (s - self.__a) * (s - self.__b) * (s - self.__c))\n",
    "    def perimeter(self):\n",
    "        return self.__a + self.__b + self.__c\n",
    "    def get_perimeter_points(self):\n",
    "        x, y = self.get_x(), self.get_y()\n",
    "        a, b, c = self.get_a(), self.get_b(), self.get_c()\n",
    "        points = []\n",
    "        for i in range(int(16*a/(a+b+c))):\n",
    "            points.append((x + i*a/int(16*a/(a+b+c)), y))\n",
    "        for i in range(int(16*b/(a+b+c))):\n",
    "            points.append((x + a - i*a/int(16*b/(a+b+c)), y + i*b/int(16*b/(a+b+c))))\n",
    "        for i in range(int(16*c/(a+b+c))):\n",
    "            points.append((x + (int(16*c/(a+b+c)) - i)*a/int(16*c/(a+b+c)), y + (int(16*c/(a+b+c))-i)*b/int(16*c/(a+b+c))))\n",
    "        return points\n",
    "    def is_inside(self, x, y):\n",
    "        x0, y0 = self.get_x(), self.get_y()\n",
    "        a, b, c = self.get_a(), self.get_b(), self.get_c()\n",
    "\n",
    "        denominator = -b * -c - (-a) * (-b - c) \n",
    "        if denominator == 0:\n",
    "            return False\n",
    "        alpha = (-b * (x - x0 - c) - (-a) * (y - y0 - b - c)) / denominator\n",
    "        beta = ((y0 - y - c) * (-a) - (x0 - x - a) * (-b)) / denominator\n",
    "        gamma = 1 - alpha - beta\n",
    "        return 0 <= alpha <= 1 and 0 <= beta <= 1 and 0 <= gamma <= 1\n"
   ]
  },
  {
   "cell_type": "code",
   "execution_count": 64,
   "metadata": {},
   "outputs": [
    {
     "name": "stdout",
     "output_type": "stream",
     "text": [
      "Rectangle 1 overlaps with Rectangle 2: True\n"
     ]
    }
   ],
   "source": [
    "# Testing \n",
    "\n",
    "rec1 = Rectangle(5, 3, 1, 2)\n",
    "rec2 = Rectangle(4, 2, 2, 3)  # Overlapping rectangle\n",
    "\n",
    "overlap = rec1.overlaps(rec2)\n",
    "print(f\"Rectangle 1 overlaps with Rectangle 2: {overlap}\") "
   ]
  },
  {
   "cell_type": "markdown",
   "metadata": {},
   "source": [
    "10. Copy the `Canvas` class from lecture to in a python file creating a `paint` module. Copy your classes from above into the module and implement paint functions. Implement a `CompoundShape` class. Create a simple drawing demonstrating that all of your classes are working."
   ]
  },
  {
   "cell_type": "code",
   "execution_count": 4,
   "metadata": {},
   "outputs": [
    {
     "name": "stdout",
     "output_type": "stream",
     "text": [
      "                    \n",
      "                    \n",
      " ******             \n",
      " ******             \n",
      " ******             \n",
      "                    \n",
      "                    \n",
      "                    \n",
      "                    \n",
      "                    \n"
     ]
    }
   ],
   "source": [
    "from paint import Canvas, Rectangle, Circle, Triangle, CompoundShape\n",
    "\n",
    "canvas = Canvas(20, 10)\n",
    "\n",
    "rectangle = Rectangle(6, 3, 1, 2)\n",
    "rectangle.paint(canvas)\n",
    "canvas.display()"
   ]
  },
  {
   "cell_type": "code",
   "execution_count": 17,
   "metadata": {},
   "outputs": [
    {
     "name": "stdout",
     "output_type": "stream",
     "text": [
      "   * *              \n",
      " *     *            \n",
      "                    \n",
      "*       *           \n",
      "         *          \n",
      "*       *           \n",
      "                    \n",
      " *     *            \n",
      "   * *              \n",
      "    *               \n"
     ]
    }
   ],
   "source": [
    "from paint import Canvas, Rectangle, Circle, Triangle, CompoundShape\n",
    "\n",
    "canvas = Canvas(20, 10)\n",
    "\n",
    "circle = Circle(5, 4, 4)\n",
    "circle.paint(canvas)\n",
    "canvas.display()"
   ]
  },
  {
   "cell_type": "code",
   "execution_count": 32,
   "metadata": {},
   "outputs": [
    {
     "name": "stdout",
     "output_type": "stream",
     "text": [
      "                    \n",
      "                    \n",
      "    *   *           \n",
      "       *            \n",
      "      *             \n",
      "                    \n",
      "                    \n",
      "                    \n",
      "                    \n",
      "                    \n"
     ]
    }
   ],
   "source": [
    "from paint import Canvas, Rectangle, Circle, Triangle, CompoundShape\n",
    "\n",
    "canvas = Canvas(20, 10)\n",
    "\n",
    "triangle = Triangle(4, 2, 3, 4, 2)\n",
    "triangle.paint(canvas)\n",
    "canvas.display()"
   ]
  },
  {
   "cell_type": "code",
   "execution_count": 37,
   "metadata": {},
   "outputs": [
    {
     "name": "stdout",
     "output_type": "stream",
     "text": [
      "   * *              \n",
      " *     *            \n",
      " ******             \n",
      "******* *           \n",
      " ******  *          \n",
      "*       *           \n",
      "                    \n",
      " *     *            \n",
      "   * *              \n",
      "    *               \n"
     ]
    }
   ],
   "source": [
    "from paint import Canvas, Rectangle, Circle, Triangle, CompoundShape\n",
    "\n",
    "canvas = Canvas(20, 10)\n",
    "\n",
    "rectangle = Rectangle(6, 3, 1, 2)\n",
    "circle = Circle(5, 4, 4)\n",
    "compound_shape = CompoundShape([rectangle, circle])\n",
    "compound_shape.paint(canvas)\n",
    "canvas.display()"
   ]
  },
  {
   "cell_type": "markdown",
   "metadata": {},
   "source": [
    "11. Create a `RasterDrawing` class. Demonstrate that you can create a drawing made of several shapes, paint the drawing, modify the drawing, and paint it again. "
   ]
  },
  {
   "cell_type": "code",
   "execution_count": 39,
   "metadata": {},
   "outputs": [],
   "source": [
    "from paint import Canvas, Rectangle, Circle, Triangle, CompoundShape\n",
    "\n",
    "class RasterDrawing:\n",
    "    def __init__(self, width, height):\n",
    "        self.canvas = Canvas(width, height)\n",
    "        self.shapes = []\n",
    "\n",
    "    def add_shape(self, shape):\n",
    "        self.shapes.append(shape)\n",
    "\n",
    "    def paint(self):\n",
    "        self.canvas.clear_canvas()  # Clear the canvas before painting\n",
    "        for shape in self.shapes:\n",
    "            shape.paint(self.canvas)\n",
    "\n",
    "    def modify_shape(self, shape_index, new_shape):\n",
    "        if 0 <= shape_index < len(self.shapes):\n",
    "            self.shapes[shape_index] = new_shape\n",
    "        else:\n",
    "            print(\"Invalid shape index.\")\n",
    "\n",
    "    def display(self):\n",
    "        self.canvas.display()\n"
   ]
  },
  {
   "cell_type": "code",
   "execution_count": 43,
   "metadata": {},
   "outputs": [
    {
     "name": "stdout",
     "output_type": "stream",
     "text": [
      "                    \n",
      "                    \n",
      " ****               \n",
      " ****   *           \n",
      " ****  ***          \n",
      "      ** **         \n",
      "       ***          \n",
      "        *           \n",
      "                    \n",
      "                    \n",
      "---------------------\n",
      "                    \n",
      "                    \n",
      "                    \n",
      "                    \n",
      "                    \n",
      "                    \n",
      "                    \n",
      "                    \n",
      "                    \n",
      "                    \n"
     ]
    }
   ],
   "source": [
    "# Testing\n",
    "drawing = RasterDrawing(20, 10)\n",
    "\n",
    "# Added shapes/initial drawing\n",
    "drawing.add_shape(Rectangle(4, 3, 1, 2))\n",
    "drawing.add_shape(Circle(2, 8, 5))\n",
    "drawing.paint()\n",
    "drawing.display()  \n",
    "print(\"---------------------\")\n",
    "\n",
    "# Clear the canvas\n",
    "drawing.canvas.clear_canvas()  \n",
    "drawing.display()  "
   ]
  },
  {
   "cell_type": "code",
   "execution_count": 44,
   "metadata": {},
   "outputs": [
    {
     "name": "stdout",
     "output_type": "stream",
     "text": [
      "                    \n",
      "                    \n",
      " ****               \n",
      " ****   *           \n",
      " ****  ***          \n",
      "      ** **         \n",
      "       ***          \n",
      "        *           \n",
      "                    \n",
      "                    \n",
      "---------------------\n",
      "                    \n",
      "                    \n",
      " ****               \n",
      " ****     *         \n",
      " ****   ** **       \n",
      "        *   *       \n",
      "       *     *      \n",
      "        *   *       \n",
      "        ** **       \n",
      "          *         \n"
     ]
    }
   ],
   "source": [
    "# Testing \n",
    "drawing = RasterDrawing(20, 10)\n",
    "\n",
    "# initial drawing\n",
    "drawing.add_shape(Rectangle(4, 3, 1, 2))\n",
    "drawing.add_shape(Circle(2, 8, 5))\n",
    "drawing.paint()\n",
    "drawing.display()\n",
    "print(\"---------------------\")\n",
    "\n",
    "# modified drawing (circle changed)\n",
    "drawing.modify_shape(1, Circle(3, 10, 6)) \n",
    "drawing.paint()\n",
    "drawing.display() "
   ]
  },
  {
   "cell_type": "markdown",
   "metadata": {},
   "source": [
    "12. Implement the ability to load/save raster drawings and demonstate that your method works. One way to implement this ability:\n",
    "\n",
    "   * Overload `__repr__` functions of all objects to return strings of the python code that would construct the object.\n",
    "   \n",
    "   * In the save method of raster drawing class, store the representations into the file.\n",
    "   * Write a loader function that reads the file and uses `eval` to instantiate the object.\n",
    "\n",
    "For example:"
   ]
  },
  {
   "cell_type": "code",
   "execution_count": 45,
   "metadata": {},
   "outputs": [],
   "source": [
    "class foo:\n",
    "    def __init__(self,a,b=None):\n",
    "        self.a=a\n",
    "        self.b=b\n",
    "        \n",
    "    def __repr__(self):\n",
    "        return \"foo(\"+repr(self.a)+\",\"+repr(self.b)+\")\"\n",
    "    \n",
    "    def save(self,filename):\n",
    "        f=open(filename,\"w\")\n",
    "        f.write(self.__repr__())\n",
    "        f.close()\n",
    "        \n",
    "   \n",
    "def foo_loader(filename):\n",
    "    f=open(filename,\"r\")\n",
    "    tmp=eval(f.read())\n",
    "    f.close()\n",
    "    return tmp\n"
   ]
  },
  {
   "cell_type": "code",
   "execution_count": 46,
   "metadata": {},
   "outputs": [
    {
     "name": "stdout",
     "output_type": "stream",
     "text": [
      "foo(1,'hello')\n"
     ]
    }
   ],
   "source": [
    "# Test\n",
    "print(repr(foo(1,\"hello\")))"
   ]
  },
  {
   "cell_type": "code",
   "execution_count": 47,
   "metadata": {},
   "outputs": [],
   "source": [
    "# Create an object and save it\n",
    "ff=foo(1,\"hello\")\n",
    "ff.save(\"Test.foo\")"
   ]
  },
  {
   "cell_type": "code",
   "execution_count": 48,
   "metadata": {},
   "outputs": [
    {
     "name": "stdout",
     "output_type": "stream",
     "text": [
      "foo(1,'hello')"
     ]
    }
   ],
   "source": [
    "# Check contents of the saved file\n",
    "!cat Test.foo"
   ]
  },
  {
   "cell_type": "code",
   "execution_count": 49,
   "metadata": {},
   "outputs": [
    {
     "data": {
      "text/plain": [
       "foo(1,'hello')"
      ]
     },
     "execution_count": 49,
     "metadata": {},
     "output_type": "execute_result"
    }
   ],
   "source": [
    "# Load the object\n",
    "ff_reloaded=foo_loader(\"Test.foo\")\n",
    "ff_reloaded"
   ]
  },
  {
   "cell_type": "code",
   "execution_count": 1,
   "metadata": {},
   "outputs": [],
   "source": [
    "\n",
    "class RasterDrawing:\n",
    "    def __init__(self, width, height):\n",
    "        self.canvas = Canvas(width, height)\n",
    "        self.shapes = []\n",
    "\n",
    "    def add_shape(self, shape):\n",
    "        self.shapes.append(shape)\n",
    "\n",
    "    def paint(self):\n",
    "        self.canvas.clear_canvas()  # Clear the canvas before painting\n",
    "        for shape in self.shapes:\n",
    "            shape.paint(self.canvas)\n",
    "\n",
    "    def modify_shape(self, shape_index, new_shape):\n",
    "        if 0 <= shape_index < len(self.shapes):\n",
    "            self.shapes[shape_index] = new_shape\n",
    "        else:\n",
    "            print(\"Invalid shape index.\")\n",
    "\n",
    "    def display(self):\n",
    "        self.canvas.display()\n",
    "\n",
    "    def save(self, filename):\n",
    "        with open(filename, \"w\") as f:\n",
    "            for shape in self.shapes:\n",
    "                f.write(repr(shape) + \"\\n\")\n",
    "\n",
    "    def load(self, filename):\n",
    "        self.shapes = []\n",
    "        with open(filename, \"r\") as f:\n",
    "            for line in f:\n",
    "                shape = eval(line.strip())  # Use eval to instantiate\n",
    "                self.shapes.append(shape)"
   ]
  },
  {
   "cell_type": "code",
   "execution_count": 5,
   "metadata": {},
   "outputs": [],
   "source": [
    "drawing = RasterDrawing(20, 10)\n",
    "drawing.add_shape(Rectangle(4, 3, 1, 2))\n",
    "drawing.add_shape(Circle(2, 8, 5))\n",
    "drawing.add_shape(Triangle(3, 4, 5, 12, 2))\n",
    "\n",
    "# Save the drawing to a file\n",
    "drawing.save(\"my_drawing.txt\")\n"
   ]
  },
  {
   "cell_type": "code",
   "execution_count": 6,
   "metadata": {},
   "outputs": [
    {
     "name": "stdout",
     "output_type": "stream",
     "text": [
      "                    \n",
      "                    \n",
      " ****       *  *    \n",
      " ****   *     *     \n",
      " ****  ***   *      \n",
      "      ** ** *       \n",
      "       *** *        \n",
      "        *           \n",
      "                    \n",
      "                    \n"
     ]
    }
   ],
   "source": [
    "# Create a new drawing and load from the saved file\n",
    "loaded_drawing = RasterDrawing(20, 10)\n",
    "loaded_drawing.load(\"my_drawing.txt\")\n",
    "\n",
    "# Paint and display the loaded drawing\n",
    "loaded_drawing.paint()\n",
    "loaded_drawing.display()"
   ]
  },
  {
   "cell_type": "code",
   "execution_count": null,
   "metadata": {},
   "outputs": [],
   "source": []
  }
 ],
 "metadata": {
  "kernelspec": {
   "display_name": "Python 3 (ipykernel)",
   "language": "python",
   "name": "python3"
  },
  "language_info": {
   "codemirror_mode": {
    "name": "ipython",
    "version": 3
   },
   "file_extension": ".py",
   "mimetype": "text/x-python",
   "name": "python",
   "nbconvert_exporter": "python",
   "pygments_lexer": "ipython3",
   "version": "3.13.1"
  }
 },
 "nbformat": 4,
 "nbformat_minor": 4
}
