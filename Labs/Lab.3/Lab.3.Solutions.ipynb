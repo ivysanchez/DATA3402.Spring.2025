{
 "cells": [
  {
   "cell_type": "markdown",
   "metadata": {},
   "source": [
    "# Lab 3\n",
    "\n",
    "In this lab we will become familiar with distributions, histograms, and functional programming. Do not use numpy or any other library for this lab.\n",
    "\n",
    "Before that, lets get setup homework submission and submit your previous lab.  \n",
    "\n",
    "## Working on the Command-line.\n",
    "\n",
    "It is important for you to learn to work on the command line and to be familiar with the Unix environment (e.g. Linux, Mac OS, or Windows Linux Subsystem). We'll go over working on the command-line in detail later in the course.\n",
    "\n",
    "You are required to submit your work in this course via GitHub. Today in class, you will setup everything on the command-line.\n",
    "\n",
    "### Command-line basics\n",
    "\n",
    "There is plenty of material online that will help you figure out how to do various tasks on the command line. Commands you may need to know today:\n",
    "\n",
    "* `ls`: lists the contents of the current directory.\n",
    "* `pwd`: prints the path of the current directory.\n",
    "* `cd <directory>`: changes your current directory to the specified directory.\n",
    "* `cd ..`: changes current directory to the previous directory. Basically steps out of the current directory to the directory containing the current directory.\n",
    "* `mkdir <directory>`: create a new directory with the specified name.\n",
    "* `rmdir <directory>`: removes the specified directory. Note it has to be empty.\n",
    "* `rm <filename>`: deletes the specified file.\n",
    "* `mv <filename 1> <filename 2>`: Moves or renames a file.\n",
    "* `cp <filename 1> <filename 2>`: copies an file. If you just provide a path to a directory, it copies the file into that directory with the same filename. If you specifiy a new filename, the copy has a new name. For example `cp File.1.txt File.2.txt` creates a copy of `File.1.txt` with the name `File.2.txt`. Meanwhile `cp File.1.txt my_directory`, where `my_directory` is a directory, creates a copy of `File.1.txt` in directory `my_directory` with the name `File.1.txt`.\n",
    "\n",
    "For reference, here are some example resources I found by googling:\n",
    "\n",
    "* Paths and Wildcards: https://www.warp.dev/terminus/linux-wildcards\n",
    "* Basic commands like copy: https://kb.iu.edu/d/afsk\n",
    "* General introduction to shell: https://github-pages.ucl.ac.uk/RCPSTrainingMaterials/HPCandHTCusingLegion/2_intro_to_shell.html\n",
    "* Manual pages: https://www.geeksforgeeks.org/linux-man-page-entries-different-types/?ref=ml_lbp\n",
    "* Chaining commands: https://www.geeksforgeeks.org/chaining-commands-in-linux/?ref=ml_lbp\n",
    "* Piping: https://www.geeksforgeeks.org/piping-in-unix-or-linux/\n",
    "* Using sed: https://www.geeksforgeeks.org/sed-command-linux-set-2/?ref=ml_lbp\n",
    "* Various Unix commands: https://www.geeksforgeeks.org/linux-commands/?ref=lbp\n",
    "* Cheat sheets:\n",
    "    * https://www.stationx.net/unix-commands-cheat-sheet/\n",
    "    * https://cheatography.com/davechild/cheat-sheets/linux-command-line/\n",
    "    * https://www.theknowledgeacademy.com/blog/unix-commands-cheat-sheet/\n",
    "    \n",
    "These aren't necessarily the best resources. Feel free to search for better ones. Also, don't forget that Unix has built-in manual pages for all of its commands. Just type `man <command>` at the command prompt. Use the space-bar to scroll through the documentation and \"q\" to exit.\n",
    "\n",
    "\n",
    "### Setup and Submission\n",
    "\n",
    "Our course repository is public. The instructions here aim to have you setup a fork of the course repository. Unfortunately because you are forking a public repo, your fork will have to be public also. \n",
    "\n",
    "You should be familiar with git from the first semester of this course. I assume that you all have github accounts and have setup things to be able to [push to github using ssh](https://docs.github.com/en/github/authenticating-to-github/connecting-to-github-with-ssh). The instuctions here lead you to:\n",
    "\n",
    "We'll overview what you will do before going through step by step instructions.\n",
    "\n",
    "1. Setup:\n",
    "    1. Fork the class repository. Some directions in [fork-a-repo](https://docs.github.com/en/github/getting-started-with-github/fork-a-repo).\n",
    "    1. Create a directory on your personal system where you will keep all course materials.\n",
    "    1. In that directory, clone your fork of the repository.\n",
    "    1. Using `git remote`, set the upstream to be the class repo, so you can pull from the class and push to your fork.\n",
    "\n",
    "1. Submission:\n",
    "    1. Copy your solutions into the appropriate directory (e.g. into `Labs/Lab.2/`) and with appropriate filename `Lab.2.solution.ipynb'.\n",
    "    1. Commit / push your solutions.\n",
    " \n",
    "Below are step by step instructions with examples (including example directory naming convention). Feel free to modify things as you see fit. \n",
    "\n",
    "#### Setup\n",
    "You should only need to follow this instructions once. Here are some useful git commands:\n",
    "\n",
    "* Git help: `git help`\n",
    "* Git remote help: `git help remote`\n",
    "* Check remote status: `git remote -v`\n",
    "* Add a remote: `git remote add <stream name> <repo URL>`\n",
    "* Add a remove: `git remote remove <stream name>`\n",
    "\n",
    "Steps:\n",
    "1. In a browser, log into GitHub and navigate to the [course repository](https://github.com/UTA-DataScience/DATA3402.Spring.2025).\n",
    "1. On the top right of the page, press the fork button to create a new fork into your own GitHub account.\n",
    "1. After successful fork, you should find the browser showing your fork of the course repository. Use the green \"Code\" button to copy path to the repo into your the clipboard of your computer.\n",
    "1. Open a shell on your personal computer.\n",
    "1. If you have not done so already, create a new directory/folder where you will keep all course material to navigate to it. For example: `mkdir Data-3402` and `cd Data-3402`.\n",
    "1. Clone your fork of the repository using `git clone` followed by the path you copied into your clipboard. (copy/paste)\n",
    "1. Paste the URL to your fork in the worksheet for the TAs and instructors.\n",
    "1. Now go into the directory of your clone (`cd DATA3402.Spring.2025`).\n",
    "1. Type `git remote -v` to see the current setup for fetch and pull.\n",
    "1. Note the URL you see. This should be the same as what you used for your clone for both push and fetch.\n",
    "1. Delete the origin remote using `git remote remove origin`.\n",
    "1. Add the course repo as your remote using `git remote add origin https://github.com/UTA-DataScience/DATA3402.Spring.2025.git`.\n",
    "1. Change the push to point to your fork. This means you will need the URL to your clone we copied earlier and confirmed as the original origin. The command will look something like: `git remote set-url --push origin  https://github.com/XXXXXX/DATA3402.Spring.2025.git`, where XXXXX is your username on GitHub.\n",
    "1. Note that if you setup everything correctly, you now should be able to do `git pull` to get updates from the course repo, and do `git push` to push your commits into your own fork.\n",
    "\n",
    "### Submission\n",
    "These instructions outline how you submit files. Some useful commands:\n",
    "* To add a file to local repository: `git add <file>`.\n",
    "* To commit all changed files into local repository: `git -a -m \"A message\"`. You need to provide some comment when you commit. \n",
    "* To push the commited files from the local repository to GitHub: `git push`.\n",
    "* To get updates from GitHub: `git pull`.\n",
    "\n",
    "Steps:\n",
    "1. To submit your labs, navigate to your clone of your fork of the course repository. \n",
    "1. Use `git pull` to make sure you have the latest updates. \n",
    "1. Make sure your copy of the lab your are working on is in the appropriate place in this clone. That means if you have the file elsewhere, copy it to the same directory in your clone of your fork. \n",
    "1. Note that in order to avoid future conflicts, you should always name your solution differently than the original file in the class repo. For example if your file is still named `Lab.2.ipynb` you should rename it using the `mv` command: `mv Lab.2.ipynb Lab.2.solution.ipynb`. \n",
    "1. Add and files you wish to submit into the repo. For example: `git add Labs/Lab.2/Lab.2.solution.ipynb`\n",
    "1. Commit any changes: `git commit -a -m \"Lab 2 updates\"`\n",
    "1. Push your changes: `git push`\n",
    "1. Check on github website that your solutions have been properly submitted.\n",
    "\n",
    "Before you leave the session today, make sure your GitHub Repo is setup. If you need to work further on your lab, navigate jupyter to the copy of the lab you just submitted and work there. Once done, repeat the commit and push commands to submit your updated solution. Note that lab 2 is due by midnight Friay 1/31/2025.\n"
   ]
  },
  {
   "cell_type": "markdown",
   "metadata": {},
   "source": [
    "### Uniform Distribution\n",
    "Lets start with generating some fake random data. You can get a random number between 0 and 1 using the python random module as follow:"
   ]
  },
  {
   "cell_type": "code",
   "execution_count": 1,
   "metadata": {},
   "outputs": [
    {
     "name": "stdout",
     "output_type": "stream",
     "text": [
      "The Value of x is 0.5853273145598316\n"
     ]
    }
   ],
   "source": [
    "import random\n",
    "x=random.random()\n",
    "print(\"The Value of x is\", x)"
   ]
  },
  {
   "cell_type": "markdown",
   "metadata": {},
   "source": [
    "Everytime you call random, you will get a new number.\n",
    "\n",
    "*Exercise 1:* Using random, write a function `generate_uniform(N, mymin, mymax)`, that returns a python list containing N random numbers between specified minimum and maximum value. Note that you may want to quickly work out on paper how to turn numbers between 0 and 1 to between other values. "
   ]
  },
  {
   "cell_type": "code",
   "execution_count": 2,
   "metadata": {},
   "outputs": [],
   "source": [
    "# Skeleton\n",
    "def generate_uniform(N, x_min, x_max):\n",
    "    out = []\n",
    "    for _ in range(N):\n",
    "        ran_num = random.random()\n",
    "        scaled_num = x_min + (x_max - x_min) * ran_num\n",
    "        out.append(scaled_num)\n",
    "    return out"
   ]
  },
  {
   "cell_type": "code",
   "execution_count": 3,
   "metadata": {},
   "outputs": [
    {
     "name": "stdout",
     "output_type": "stream",
     "text": [
      "Data Type: <class 'list'>\n",
      "Data Length: 1000\n",
      "Type of Data Contents: <class 'float'>\n",
      "Data Minimum: -9.981891035879169\n",
      "Data Maximum: 9.975950445982935\n"
     ]
    }
   ],
   "source": [
    "# Test your solution here\n",
    "data=generate_uniform(1000,-10,10)\n",
    "print (\"Data Type:\", type(data))\n",
    "print (\"Data Length:\", len(data))\n",
    "if len(data)>0: \n",
    "    print (\"Type of Data Contents:\", type(data[0]))\n",
    "    print (\"Data Minimum:\", min(data))\n",
    "    print (\"Data Maximum:\", max(data))"
   ]
  },
  {
   "cell_type": "markdown",
   "metadata": {},
   "source": [
    "*Exercise 2a:* \n",
    "Write a function that computes the mean of values in a list. Recall the equation for the mean of a random variable $\\bf{x}$ computed on a data set of $n$ values $\\{ x_i \\} = \\{x_1, x_2, ..., x_n\\}$  is ${\\bf\\bar{x}} = \\frac{1}{n} \\sum_i^n x_i$."
   ]
  },
  {
   "cell_type": "code",
   "execution_count": 4,
   "metadata": {},
   "outputs": [],
   "source": [
    "# Skeleton\n",
    "def mean(Data):\n",
    "    m = 0.\n",
    "\n",
    "    total_sum = sum(Data)\n",
    "    num_values = len(Data)\n",
    "\n",
    "    if num_values > 0:\n",
    "        m = total_sum / num_values\n",
    "\n",
    "    return m"
   ]
  },
  {
   "cell_type": "code",
   "execution_count": 5,
   "metadata": {},
   "outputs": [
    {
     "name": "stdout",
     "output_type": "stream",
     "text": [
      "Mean of Data: -0.0781667988955969\n"
     ]
    }
   ],
   "source": [
    "# Test your solution here\n",
    "print (\"Mean of Data:\", mean(data))"
   ]
  },
  {
   "cell_type": "markdown",
   "metadata": {},
   "source": [
    "*Exercise 2b:* \n",
    "Write a function that computes the variance of values in a list. Recall the equation for the variance of a random variable $\\bf{x}$ computed on a data set of $n$ values $\\{ x_i \\} = \\{x_1, x_2, ..., x_n\\}$  is ${\\bf\\langle x \\rangle} = \\frac{1}{n-1} \\sum_i^n (x_i - {\\bf\\bar{x}})^2$."
   ]
  },
  {
   "cell_type": "code",
   "execution_count": 6,
   "metadata": {},
   "outputs": [],
   "source": [
    "# Skeleton\n",
    "def variance(Data):\n",
    "    m = 0\n",
    "\n",
    "    mean_value = sum(Data) / len(Data) if len(Data) > 0 else 0\n",
    "    squared_diffs = [(x - mean_value)**2 for x in Data]\n",
    "    m = sum(squared_diffs) / len(Data) if len(Data) > 0 else 0\n",
    "\n",
    "    return m"
   ]
  },
  {
   "cell_type": "code",
   "execution_count": 7,
   "metadata": {},
   "outputs": [
    {
     "name": "stdout",
     "output_type": "stream",
     "text": [
      "Variance of Data: 34.69390175166762\n"
     ]
    }
   ],
   "source": [
    "# Test your solution here\n",
    "print (\"Variance of Data:\", variance(data))"
   ]
  },
  {
   "cell_type": "markdown",
   "metadata": {},
   "source": [
    "## Histogramming"
   ]
  },
  {
   "cell_type": "markdown",
   "metadata": {},
   "source": [
    "*Exercise 3:* Write a function that bins the data so that you can create a histogram. An example of how to implement histogramming is the following logic:\n",
    "\n",
    "* User inputs a list of values `x` and optionally `n_bins` which defaults to 10.\n",
    "* If not supplied, find the minimum and maximum (`x_min`,`x_max`) of the values in x.\n",
    "* Determine the bin size (`bin_size`) by dividing the range of the function by the number of bins.\n",
    "* Create an empty list of zeros of size `n_bins`, call it `hist`.\n",
    "* Loop over the values in `x`\n",
    "    * Loop over the values in `hist` with index `i`:\n",
    "        * If x is between `x_min+i*bin_size` and `x_min+(i+1)*bin_size`, increment `hist[i].` \n",
    "        * For efficiency, try to use continue to goto the next bin and data point.\n",
    "* Return `hist` and the list corresponding of the bin edges (i.e. of `x_min+i*bin_size`).    "
   ]
  },
  {
   "cell_type": "code",
   "execution_count": 13,
   "metadata": {},
   "outputs": [],
   "source": [
    "# Solution\n",
    "def histogram(x, n_bins=10, x_min=None, x_max=None):\n",
    "\n",
    "    if x_min is None:\n",
    "        x_min = min(x)\n",
    "    if x_max is None:\n",
    "        x_max = max(x)\n",
    "\n",
    "    bin_size = (x_max - x_min) / n_bins\n",
    "    hist = [0] * n_bins\n",
    "\n",
    "    for values in x:\n",
    "        for i in range(n_bins):\n",
    "            bin_start = x_min + i * bin_size\n",
    "            bin_end = x_min + (i + 1) * bin_size\n",
    "            if bin_start <= values < bin_end:\n",
    "                hist[i] += 1\n",
    "                break  \n",
    "    bin_edges = [x_min + i * bin_size for i in range(n_bins + 1)]\n",
    "\n",
    "    return hist, bin_edges"
   ]
  },
  {
   "cell_type": "code",
   "execution_count": 14,
   "metadata": {},
   "outputs": [
    {
     "name": "stdout",
     "output_type": "stream",
     "text": [
      "Histogram counts: [3, 2, 1, 0, 1, 3, 1, 2, 0, 0, 1, 3, 1, 2, 0, 0, 1, 1, 1, 2, 1, 2, 2, 1, 0, 1, 0, 0, 0, 0, 0, 0, 1, 0, 2, 2, 0, 0, 0, 3, 5, 0, 2, 1, 2, 1, 1, 3, 2, 1, 1, 2, 1, 1, 1, 1, 1, 2, 1, 0, 1, 0, 0, 1, 1, 1, 2, 1, 0, 0, 0, 0, 2, 0, 1, 0, 0, 1, 1, 0, 2, 0, 1, 0, 0, 2, 2, 1, 1, 1, 1, 0, 1, 1, 0, 0, 2, 1, 2, 1]\n",
      "\n",
      "Bin edges: [-9.085531331913197, -8.895947589175728, -8.706363846438261, -8.516780103700793, -8.327196360963324, -8.137612618225857, -7.948028875488388, -7.7584451327509205, -7.568861390013453, -7.379277647275984, -7.189693904538516, -7.000110161801048, -6.81052641906358, -6.620942676326113, -6.431358933588644, -6.241775190851176, -6.0521914481137085, -5.86260770537624, -5.673023962638772, -5.483440219901304, -5.2938564771638355, -5.104272734426368, -4.9146889916889, -4.725105248951432, -4.535521506213963, -4.3459377634764955, -4.156354020739028, -3.966770278001559, -3.777186535264091, -3.5876027925266234, -3.3980190497891556, -3.208435307051687, -3.018851564314219, -2.8292678215767513, -2.6396840788392826, -2.4501003361018148, -2.260516593364347, -2.070932850626879, -1.8813491078894105, -1.6917653651519426, -1.5021816224144748, -1.3125978796770061, -1.1230141369395383, -0.9334303942020696, -0.7438466514646027, -0.554262908727134, -0.3646791659896671, -0.1750954232521984, 0.014488319485270296, 0.20407206222273722, 0.3936558049602059, 0.5832395476976746, 0.7728232904351415, 0.9624070331726102, 1.151990775910079, 1.3415745186475458, 1.5311582613850145, 1.7207420041224832, 1.9103257468599502, 2.099909489597419, 2.2894932323348858, 2.4790769750723545, 2.668660717809823, 2.85824446054729, 3.047828203284759, 3.2374119460222275, 3.4269956887596944, 3.616579431497163, 3.806163174234632, 3.9957469169720987, 4.185330659709567, 4.374914402447034, 4.564498145184503, 4.754081887921972, 4.943665630659439, 5.133249373396907, 5.322833116134376, 5.512416858871843, 5.702000601609312, 5.89158434434678, 6.081168087084247, 6.270751829821716, 6.460335572559185, 6.649919315296652, 6.83950305803412, 7.029086800771589, 7.218670543509058, 7.408254286246523, 7.5978380289839915, 7.78742177172146, 7.977005514458929, 8.166589257196398, 8.356172999933863, 8.545756742671331, 8.7353404854088, 8.924924228146269, 9.114507970883738, 9.304091713621206, 9.493675456358671, 9.68325919909614, 9.872842941833609]\n"
     ]
    }
   ],
   "source": [
    "# Test your solution here\n",
    "data=generate_uniform(100 ,-10, 10)\n",
    "h,b=histogram(data,100)\n",
    "print(\"Histogram counts:\", h)\n",
    "print(\"\\nBin edges:\", b)"
   ]
  },
  {
   "cell_type": "markdown",
   "metadata": {},
   "source": [
    "*Exercise 4:* Write a function that uses the histogram function in the previous exercise to create a text-based \"graph\". For example the output could look like the following:\n",
    "```\n",
    "[  0,  1] : ######\n",
    "[  1,  2] : #####\n",
    "[  2,  3] : ######\n",
    "[  3,  4] : ####\n",
    "[  4,  5] : ####\n",
    "[  5,  6] : ######\n",
    "[  6,  7] : #####\n",
    "[  7,  8] : ######\n",
    "[  8,  9] : ####\n",
    "[  9, 10] : #####\n",
    "```\n",
    "\n",
    "Where each line corresponds to a bin and the number of `#`'s are proportional to the value of the data in the bin. "
   ]
  },
  {
   "cell_type": "code",
   "execution_count": 15,
   "metadata": {},
   "outputs": [],
   "source": [
    "def draw_histogram(x, n_bins, x_min=None, x_max=None, character=\"#\", max_character_per_line=20):\n",
    "    hist, bin_edges = histogram(x, n_bins, x_min, x_max)\n",
    "    \n",
    "    max_freq = max(hist)\n",
    "\n",
    "    for i in range(n_bins):\n",
    "        num_chars = int((hist[i] / max_freq) * max_character_per_line) if max_freq else 0  \n",
    "\n",
    "        print(f\"[{bin_edges[i]:.1f}, {bin_edges[i + 1]:.1f}] : {character * num_chars}\")\n",
    "\n",
    "    return hist, bin_edges"
   ]
  },
  {
   "cell_type": "code",
   "execution_count": 16,
   "metadata": {},
   "outputs": [
    {
     "name": "stdout",
     "output_type": "stream",
     "text": [
      "[-10.0, -9.0] : ############\n",
      "[-9.0, -8.0] : ####################\n",
      "[-8.0, -7.1] : ##########\n",
      "[-7.1, -6.1] : ############\n",
      "[-6.1, -5.1] : ####\n",
      "[-5.1, -4.1] : ####\n",
      "[-4.1, -3.1] : ############\n",
      "[-3.1, -2.2] : ########\n",
      "[-2.2, -1.2] : ##############\n",
      "[-1.2, -0.2] : ########\n",
      "[-0.2, 0.8] : ########\n",
      "[0.8, 1.8] : ##########\n",
      "[1.8, 2.7] : ############\n",
      "[2.7, 3.7] : ########\n",
      "[3.7, 4.7] : ########\n",
      "[4.7, 5.7] : ##############\n",
      "[5.7, 6.6] : ##############\n",
      "[6.6, 7.6] : ########\n",
      "[7.6, 8.6] : ######\n",
      "[8.6, 9.6] : ########\n"
     ]
    }
   ],
   "source": [
    "# Test your solution here\n",
    "data= generate_uniform(100, -10, 10)\n",
    "h,b=draw_histogram(data,20)"
   ]
  },
  {
   "cell_type": "markdown",
   "metadata": {},
   "source": [
    "## Functional Programming\n",
    "\n",
    "*Exercise 5:* Write a function the applies a booling function (that returns true/false) to every element in data, and return a list of indices of elements where the result was true. Use this function to find the indices of entries greater than 0.5. "
   ]
  },
  {
   "cell_type": "code",
   "execution_count": 17,
   "metadata": {},
   "outputs": [],
   "source": [
    "def where(mylist, myfunc):\n",
    "    out = []\n",
    "\n",
    "    for i, value in enumerate(mylist):\n",
    "        if myfunc(value):\n",
    "            out.append(i)\n",
    "\n",
    "    return out"
   ]
  },
  {
   "cell_type": "code",
   "execution_count": 18,
   "metadata": {},
   "outputs": [
    {
     "name": "stdout",
     "output_type": "stream",
     "text": [
      "Indices of entries greater than 0.5: [2, 4, 5, 6, 8, 9, 13, 16, 17, 19, 20, 21, 22, 23, 25, 29, 31, 32, 33, 34, 35, 36, 38, 39, 40, 42, 43, 44, 45, 46, 48, 49, 51, 52, 54, 58, 64, 65, 66, 77, 80, 84, 90, 92, 95, 97, 98, 99]\n"
     ]
    }
   ],
   "source": [
    "# Test your solution here\n",
    "indices= where(data, lambda x: x>0.5)\n",
    "print(\"Indices of entries greater than 0.5:\", indices)"
   ]
  },
  {
   "cell_type": "markdown",
   "metadata": {},
   "source": [
    "*Exercise 6:* The `inrange(mymin,mymax)` function below returns a function that tests if it's input is between the specified values. Write corresponding functions that test:\n",
    "* Even\n",
    "* Odd\n",
    "* Greater than\n",
    "* Less than\n",
    "* Equal\n",
    "* Divisible by"
   ]
  },
  {
   "cell_type": "code",
   "execution_count": 19,
   "metadata": {},
   "outputs": [
    {
     "name": "stdout",
     "output_type": "stream",
     "text": [
      "True True False False False\n",
      "False False True True False\n",
      "Number of Entries passing F1: 48\n",
      "Number of Entries passing F2: 0\n"
     ]
    }
   ],
   "source": [
    "def in_range(mymin,mymax):\n",
    "    def testrange(x):\n",
    "        return x<mymax and x>=mymin\n",
    "    return testrange\n",
    "\n",
    "# Examples:\n",
    "F1=in_range(0,10)\n",
    "F2=in_range(10,20)\n",
    "\n",
    "# Test of in_range\n",
    "print (F1(0), F1(1), F1(10), F1(15), F1(20))\n",
    "print (F2(0), F2(1), F2(10), F2(15), F2(20))\n",
    "\n",
    "print (\"Number of Entries passing F1:\", len(where(data,F1)))\n",
    "print (\"Number of Entries passing F2:\", len(where(data,F2)))"
   ]
  },
  {
   "cell_type": "code",
   "execution_count": 20,
   "metadata": {},
   "outputs": [],
   "source": [
    "def is_even():\n",
    "    def testeven(x):\n",
    "        return x % 2 == 0\n",
    "    return testeven\n",
    "\n",
    "def is_odd():\n",
    "    def testodd(x):\n",
    "        return x % 2 != 0\n",
    "    return testodd\n",
    "\n",
    "def is_greater_than(threshold):\n",
    "    def test_greater(x):\n",
    "        return x > threshold\n",
    "    return test_greater\n",
    "\n",
    "def is_less_than(threshold):\n",
    "    def test_less(x):\n",
    "        return x < threshold\n",
    "    return test_less\n",
    "\n",
    "def is_equal_to(value):\n",
    "    def test_equal(x):\n",
    "        return x == value\n",
    "    return test_equal\n",
    "\n",
    "def is_divisible_by(divisor):\n",
    "    def test_divisible(x):\n",
    "        return x % divisor == 0\n",
    "    return test_divisible"
   ]
  },
  {
   "cell_type": "code",
   "execution_count": 21,
   "metadata": {},
   "outputs": [
    {
     "name": "stdout",
     "output_type": "stream",
     "text": [
      "True False True\n",
      "False True False\n",
      "False True True\n",
      "True False True\n",
      "True False False\n",
      "True False True\n",
      "Number of Entries passing F3 (even): 5\n",
      "Number of Entries passing F4 (odd): 5\n",
      "Number of Entries passing F5 (>5): 6\n",
      "Number of Entries passing F6 (<15): 8\n",
      "Number of Entries passing F7 (=10): 1\n",
      "Number of Entries passing F8 (divisible by 3): 6\n"
     ]
    }
   ],
   "source": [
    "# Test your solution\n",
    "F3 = is_even()\n",
    "F4 = is_odd()\n",
    "F5 = is_greater_than(5)\n",
    "F6 = is_less_than(15)\n",
    "F7 = is_equal_to(10)\n",
    "F8 = is_divisible_by(3)\n",
    "\n",
    "data = [0, 1, 3, 5, 6, 9, 10, 12, 15, 20]\n",
    "\n",
    "print(F3(2), F3(3), F3(4))\n",
    "print(F4(2), F4(3), F4(4))\n",
    "print(F5(4), F5(6), F5(10))\n",
    "print(F6(10), F6(15), F6(5))\n",
    "print(F7(10), F7(5), F7(20))\n",
    "print(F8(3), F8(4), F8(9))\n",
    "\n",
    "def where(data, func):\n",
    "    return [x for x in data if func(x)]\n",
    "\n",
    "print(\"Number of Entries passing F3 (even):\", len(where(data, F3)))\n",
    "print(\"Number of Entries passing F4 (odd):\", len(where(data, F4)))\n",
    "print(\"Number of Entries passing F5 (>5):\", len(where(data, F5)))\n",
    "print(\"Number of Entries passing F6 (<15):\", len(where(data, F6)))\n",
    "print(\"Number of Entries passing F7 (=10):\", len(where(data, F7)))\n",
    "print(\"Number of Entries passing F8 (divisible by 3):\", len(where(data, F8)))"
   ]
  },
  {
   "cell_type": "markdown",
   "metadata": {},
   "source": [
    "*Exercise 7:* Repeat the previous exercise using `lambda` and the built-in python functions sum and map instead of your solution above. "
   ]
  },
  {
   "cell_type": "code",
   "execution_count": 22,
   "metadata": {},
   "outputs": [
    {
     "name": "stdout",
     "output_type": "stream",
     "text": [
      "True False True\n",
      "False True False\n",
      "False True True\n",
      "True False True\n",
      "True False False\n",
      "True False True\n",
      "Number of Entries passing F3 (even): 5\n",
      "Number of Entries passing F4 (odd): 5\n",
      "Number of Entries passing F5 (>5): 6\n",
      "Number of Entries passing F6 (<15): 8\n",
      "Number of Entries passing F7 (=10): 1\n",
      "Number of Entries passing F8 (divisible by 3): 6\n"
     ]
    }
   ],
   "source": [
    "is_even = lambda x: x % 2 == 0\n",
    "is_odd = lambda x: x % 2 != 0\n",
    "is_greater_than = lambda threshold: lambda x: x > threshold\n",
    "is_less_than = lambda threshold: lambda x: x < threshold\n",
    "is_equal_to = lambda value: lambda x: x == value\n",
    "is_divisible_by = lambda divisor: lambda x: x % divisor == 0\n",
    "\n",
    "F3 = is_even\n",
    "F4 = is_odd\n",
    "F5 = is_greater_than(5)\n",
    "F6 = is_less_than(15)\n",
    "F7 = is_equal_to(10)\n",
    "F8 = is_divisible_by(3)\n",
    "\n",
    "data = [0, 1, 3, 5, 6, 9, 10, 12, 15, 20]\n",
    "\n",
    "print(F3(2), F3(3), F3(4))\n",
    "print(F4(2), F4(3), F4(4))\n",
    "print(F5(4), F5(6), F5(10))\n",
    "print(F6(10), F6(15), F6(5))\n",
    "print(F7(10), F7(5), F7(20))\n",
    "print(F8(3), F8(4), F8(9))\n",
    "\n",
    "# Filtering data using functions with sum and map\n",
    "count_matches = lambda data, func: sum(map(func, data))\n",
    "\n",
    "print(\"Number of Entries passing F3 (even):\", count_matches(data, F3))\n",
    "print(\"Number of Entries passing F4 (odd):\", count_matches(data, F4))\n",
    "print(\"Number of Entries passing F5 (>5):\", count_matches(data, F5))\n",
    "print(\"Number of Entries passing F6 (<15):\", count_matches(data, F6))\n",
    "print(\"Number of Entries passing F7 (=10):\", count_matches(data, F7))\n",
    "print(\"Number of Entries passing F8 (divisible by 3):\", count_matches(data, F8))"
   ]
  },
  {
   "cell_type": "markdown",
   "metadata": {},
   "source": [
    "## Monte Carlo\n",
    "\n",
    "*Exercise 7:* Write a \"generator\" function called `generate_function(func,x_min,x_max,N)`, that instead of generating a flat distribution, generates a distribution with functional form coded in `func`. Note that `func` will always be > 0.  \n",
    "\n",
    "Use the test function below and your histogramming functions above to demonstrate that your generator is working properly.\n",
    "\n",
    "Hint: A simple, but slow, solution is to a draw random number `test_x` within the specified range and another number `p` between the `min` and `max` of the function (which you will have to determine). If `p<=function(test_x)`, then place `test_x` on the output. If not, repeat the process, drawing two new numbers. Repeat until you have the specified number of generated numbers, `N`. For this problem, it's OK to determine the `min` and `max` by numerically sampling the function.  "
   ]
  },
  {
   "cell_type": "code",
   "execution_count": 23,
   "metadata": {},
   "outputs": [],
   "source": [
    "def generate_function(func, x_min, x_max, N=1000):\n",
    "    out = []\n",
    "\n",
    "    x_values = [x_min + (x_max - x_min) * random.random() for _ in range(1000)]\n",
    "    func_values = [func(x) for x in x_values]\n",
    "    func_min = min(func_values)\n",
    "    func_max = max(func_values)\n",
    "\n",
    "    while len(out) < N:\n",
    "        test_x = x_min + (x_max - x_min) * random.random()\n",
    "        p = func_min + (func_max - func_min) * random.random()\n",
    "        if p <= func(test_x):\n",
    "            out.append(test_x)\n",
    "\n",
    "    return out"
   ]
  },
  {
   "cell_type": "code",
   "execution_count": 24,
   "metadata": {},
   "outputs": [
    {
     "name": "stdout",
     "output_type": "stream",
     "text": [
      "Number of points: 1000\n",
      "\n",
      "First few points: [-8.40837388692564, -4.926672821937013, 7.067293178092207, 4.2866076347610935, 9.687310545661347]\n",
      "[-10.0, -9.0] : #################\n",
      "[-9.0, -8.0] : ############\n",
      "[-8.0, -7.0] : ##############\n",
      "[-7.0, -6.0] : #############\n",
      "[-6.0, -5.0] : #########\n",
      "[-5.0, -4.0] : #####\n",
      "[-4.0, -3.0] : ####\n",
      "[-3.0, -2.0] : ##\n",
      "[-2.0, -1.0] : \n",
      "[-1.0, 0.0] : #\n",
      "[0.0, 1.0] : ##\n",
      "[1.0, 2.0] : ####\n",
      "[2.0, 3.0] : ######\n",
      "[3.0, 4.0] : ########\n",
      "[4.0, 5.0] : ##########\n",
      "[5.0, 6.0] : ############\n",
      "[6.0, 7.0] : ##################\n",
      "[7.0, 8.0] : ##################\n",
      "[8.0, 9.0] : ################\n",
      "[9.0, 10.0] : ####################\n"
     ]
    }
   ],
   "source": [
    "# A test function\n",
    "def test_func(x,a=1,b=1):\n",
    "    return abs(a*x+b)\n",
    "\n",
    "data= generate_function(test_func, -10,10)\n",
    "print(\"Number of points:\", len(data))\n",
    "print(\"\\nFirst few points:\", data[:5])\n",
    "\n",
    "h,b=draw_histogram(data,20)\n"
   ]
  },
  {
   "cell_type": "markdown",
   "metadata": {},
   "source": [
    "*Exercise 8:* Use your function to generate 1000 numbers that are normal distributed, using the `gaussian` function below. Confirm the mean and variance of the data is close to the mean and variance you specify when building the Gaussian. Histogram the data. "
   ]
  },
  {
   "cell_type": "code",
   "execution_count": 25,
   "metadata": {},
   "outputs": [
    {
     "name": "stdout",
     "output_type": "stream",
     "text": [
      "Calculated Mean: -0.06509418263133437\n",
      "Calculated Variance: 0.9628546932341796\n",
      "[-5.0, -4.5] : \n",
      "[-4.5, -4.0] : \n",
      "[-4.0, -3.5] : \n",
      "[-3.5, -3.0] : \n",
      "[-3.0, -2.5] : \n",
      "[-2.5, -2.0] : \n",
      "[-2.0, -1.5] : #####\n",
      "[-1.5, -1.0] : ########\n",
      "[-1.0, -0.5] : ################\n",
      "[-0.5, 0.0] : ####################\n",
      "[0.0, 0.5] : ################\n",
      "[0.5, 1.0] : #############\n",
      "[1.0, 1.5] : #######\n",
      "[1.5, 2.0] : ####\n",
      "[2.0, 2.5] : #\n",
      "[2.5, 3.0] : \n",
      "[3.0, 3.5] : \n",
      "[3.5, 4.0] : \n",
      "[4.0, 4.5] : \n",
      "[4.5, 5.0] : \n"
     ]
    }
   ],
   "source": [
    "import math\n",
    "\n",
    "def gaussian(mean, sigma):\n",
    "    def f(x):\n",
    "        return math.exp(-((x-mean)**2)/(2*sigma**2))/math.sqrt(math.pi*sigma)\n",
    "    return f\n",
    "\n",
    "# Example Instantiation\n",
    "g1=gaussian(0,1)\n",
    "g2=gaussian(10,3)\n",
    "\n",
    "normal_data = generate_function(g1, -5, 5, N=1000)\n",
    "\n",
    "calculated_mean = mean(normal_data)\n",
    "calculated_variance = variance(normal_data)\n",
    "\n",
    "print(\"Calculated Mean:\", calculated_mean)\n",
    "print(\"Calculated Variance:\", calculated_variance)\n",
    "\n",
    "h,b = draw_histogram(normal_data, n_bins=20, x_min=-5, x_max=5)"
   ]
  },
  {
   "cell_type": "markdown",
   "metadata": {},
   "source": [
    "*Exercise 9:* Combine your `generate_function`, `where`, and `in_range` functions above to create an integrate function. Use your integrate function to show that approximately 68% of Normal distribution is within one variance."
   ]
  },
  {
   "cell_type": "code",
   "execution_count": 26,
   "metadata": {},
   "outputs": [
    {
     "name": "stdout",
     "output_type": "stream",
     "text": [
      "Estimated fraction within one standard deviation: 0.6792\n",
      "Expected fraction (approximately): 0.68\n"
     ]
    }
   ],
   "source": [
    "def integrate(func, x_min, x_max, lower_bound, upper_bound, N=10000):\n",
    "  \n",
    "    data = generate_function(func, x_min, x_max, N)\n",
    "   \n",
    "    indices_in_range = where(data, in_range(low_b, up_b))\n",
    "  \n",
    "    integral = len(indices_in_range) / len(data)\n",
    "    return integral, data\n",
    "\n",
    "mu = 0\n",
    "sigma = 1\n",
    "\n",
    "gauss = lambda x: gaussian(mu, sigma)(x) \n",
    "\n",
    "x_min = mu - 4 * sigma\n",
    "x_max = mu + 4 * sigma\n",
    "\n",
    "low_b = mu - sigma\n",
    "up_b = mu + sigma\n",
    "\n",
    "fraction, samples = integrate(gauss, x_min, x_max, low_b, up_b, N=10000)\n",
    "print(\"Estimated fraction within one standard deviation:\", fraction)\n",
    "print(\"Expected fraction (approximately): 0.68\")"
   ]
  },
  {
   "cell_type": "code",
   "execution_count": null,
   "metadata": {},
   "outputs": [],
   "source": []
  }
 ],
 "metadata": {
  "kernelspec": {
   "display_name": "Python 3 (ipykernel)",
   "language": "python",
   "name": "python3"
  },
  "language_info": {
   "codemirror_mode": {
    "name": "ipython",
    "version": 3
   },
   "file_extension": ".py",
   "mimetype": "text/x-python",
   "name": "python",
   "nbconvert_exporter": "python",
   "pygments_lexer": "ipython3",
   "version": "3.13.1"
  }
 },
 "nbformat": 4,
 "nbformat_minor": 4
}
