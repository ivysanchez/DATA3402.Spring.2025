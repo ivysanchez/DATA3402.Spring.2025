{
 "cells": [
  {
   "cell_type": "markdown",
   "metadata": {},
   "source": [
    "# Lab 5\n"
   ]
  },
  {
   "cell_type": "markdown",
   "metadata": {},
   "source": [
    "Matrix Representation: In this lab you will be creating a simple linear algebra system. In memory, we will represent matrices as nested python lists as we have done in lecture. In the exercises below, you are required to explicitly test every feature you implement, demonstrating it works.\n",
    "\n",
    "1. Create a `matrix` class with the following properties:\n",
    "    * It can be initialized in 2 ways:\n",
    "        1. with arguments `n` and `m`, the size of the matrix. A newly instanciated matrix will contain all zeros.\n",
    "        2. with a list of lists of values. Note that since we are using lists of lists to implement matrices, it is possible that not all rows have the same number of columns. Test explicitly that the matrix is properly specified.\n",
    "    * Matrix instances `M` can be indexed with `M[i][j]` and `M[i,j]`.\n",
    "    * Matrix assignment works in 2 ways:\n",
    "        1. If `M_1` and `M_2` are `matrix` instances `M_1=M_2` sets the values of `M_1` to those of `M_2`, if they are the same size. Error otherwise.\n",
    "        2. In example above `M_2` can be a list of lists of correct size.\n"
   ]
  },
  {
   "cell_type": "code",
   "execution_count": 7,
   "metadata": {},
   "outputs": [],
   "source": [
    "class Matrix:\n",
    "    def __init__(self, *args):\n",
    "        if len(args) == 2:\n",
    "            # Initialization size n,m\n",
    "            n, m = args\n",
    "            self.data = [[0 for _ in range(m)] for _ in range(n)]\n",
    "        elif len(args) == 1:\n",
    "            # Initialization with a list of lists\n",
    "            data = args[0]\n",
    "            num_cols = len(data[0]) if data else 0\n",
    "            if not all(len(row) == num_cols for row in data):\n",
    "                raise ValueError(\"Invalid matrix: Rows different lengths.\")\n",
    "            self.data = data\n",
    "        else:\n",
    "            raise ValueError(\"Invalid number of args for initialization.\")\n",
    "\n",
    "    def __getitem__(self, index):\n",
    "        if isinstance(index, tuple):\n",
    "            row, col = index\n",
    "            return self.data[row][col]\n",
    "        else:\n",
    "            return self.data[index]\n",
    "\n",
    "    def __setitem__(self, index, value):\n",
    "        if isinstance(index, tuple):\n",
    "            row, col = index\n",
    "            self.data[row][col] = value\n",
    "        else:\n",
    "            self.data[index] = value\n",
    "\n",
    "    def __eq__(self, other):\n",
    "        if isinstance(other, Matrix):\n",
    "            return self.data == other.data\n",
    "        return False\n",
    "\n",
    "    def __repr__(self):\n",
    "        return str(self.data)"
   ]
  },
  {
   "cell_type": "code",
   "execution_count": 9,
   "metadata": {},
   "outputs": [
    {
     "name": "stdout",
     "output_type": "stream",
     "text": [
      "Matrix 1- r2 c3: 6\n",
      "Matrix 1- r1 c2: 2\n"
     ]
    }
   ],
   "source": [
    "m1 = Matrix([[1, 2, 3], [4, 5, 6]])\n",
    "\n",
    "## __getitem__\n",
    "print(\"Matrix 1- r2 c3:\", m1[1, 2])  # Output: 6\n",
    "print(\"Matrix 1- r1 c2:\", m1[0][1])  # Output 2"
   ]
  },
  {
   "cell_type": "code",
   "execution_count": 10,
   "metadata": {},
   "outputs": [
    {
     "name": "stdout",
     "output_type": "stream",
     "text": [
      "\n",
      "Matrix 2:\n",
      " [[1, 2, 3], [4, 5, 6]]\n"
     ]
    }
   ],
   "source": [
    "## copying a matrix\n",
    "m2 = Matrix(m1)\n",
    "print(\"\\nMatrix 2:\\n\",m2)"
   ]
  },
  {
   "cell_type": "code",
   "execution_count": 11,
   "metadata": {},
   "outputs": [
    {
     "name": "stdout",
     "output_type": "stream",
     "text": [
      "Original matrix:\n",
      " [[1, 2, 3], [4, 5, 6]]\n",
      "\n",
      "Modified Matrix 1:\n",
      " [[1, 10, 3], [4, 5, 6]]\n",
      "\n",
      "Modified Matrix 1:\n",
      " [[1, 10, 3], [9, 9, 9]]\n"
     ]
    }
   ],
   "source": [
    "## __setitem__\n",
    "\n",
    "m1 = Matrix([[1, 2, 3], [4, 5, 6]])\n",
    "print(\"Original matrix:\\n\", m1)\n",
    "\n",
    "#assigning single elemnet\n",
    "m1[0, 1] = 10\n",
    "print(\"\\nModified Matrix 1:\\n\",m1)\n",
    "\n",
    "#assigning entrie row\n",
    "m1[1]=[9,9,9]\n",
    "print(\"\\nModified Matrix 1:\\n\",m1)"
   ]
  },
  {
   "cell_type": "code",
   "execution_count": 13,
   "metadata": {},
   "outputs": [
    {
     "name": "stdout",
     "output_type": "stream",
     "text": [
      "\n",
      "Matrix 1 == Matrix 2: False\n"
     ]
    }
   ],
   "source": [
    "## __eq__\n",
    "print(\"\\nMatrix 1 == Matrix 2:\", m1 == m2)    # m2 does not equal m1 anymore bc m1 was changed 2x"
   ]
  },
  {
   "cell_type": "markdown",
   "metadata": {},
   "source": [
    "2. Add the following methods:\n",
    "    * `shape()`: returns a tuple `(n,m)` of the shape of the matrix.\n",
    "    * `transpose()`: returns a new matrix instance which is the transpose of the matrix.\n",
    "    * `row(n)` and `column(n)`: that return the nth row or column of the matrix M as a new appropriately shaped matrix object.\n",
    "    * `to_list()`: which returns the matrix as a list of lists.\n",
    "    *  `block(n_0,n_1,m_0,m_1)` that returns a smaller matrix located at the n_0 to n_1 columns and m_0 to m_1 rows. \n",
    "    * (Extra credit) Modify `__getitem__` implemented above to support slicing.\n",
    "        "
   ]
  },
  {
   "cell_type": "code",
   "execution_count": 15,
   "metadata": {},
   "outputs": [],
   "source": [
    "class Matrix:\n",
    "    def __init__(self, *args):\n",
    "        if len(args) == 2:\n",
    "            # Initialization size n,m\n",
    "            n, m = args\n",
    "            self.data = [[0 for _ in range(m)] for _ in range(n)]\n",
    "        elif len(args) == 1:\n",
    "            # Initialization with a list of lists\n",
    "            data = args[0]\n",
    "            num_cols = len(data[0]) if data else 0\n",
    "            if not all(len(row) == num_cols for row in data):\n",
    "                raise ValueError(\"Invalid matrix: Rows different lengths.\")\n",
    "            self.data = data\n",
    "        else:\n",
    "            raise ValueError(\"Invalid number of args for initialization.\")\n",
    "\n",
    "    def __setitem__(self, index, value):\n",
    "        if isinstance(index, tuple):\n",
    "            row, col = index\n",
    "            self.data[row][col] = value\n",
    "        else:\n",
    "            self.data[index] = value\n",
    "\n",
    "    def __eq__(self, other):\n",
    "        if isinstance(other, Matrix):\n",
    "            return self.data == other.data\n",
    "        return False\n",
    "\n",
    "    def __repr__(self):\n",
    "        return str(self.data)\n",
    "\n",
    "## start of ex 2\n",
    "    def shape(self):\n",
    "        num_rows = len(self.data)\n",
    "        num_cols = len(self.data[0]) if num_rows > 0 else 0  \n",
    "        return (num_rows, num_cols)\n",
    "\n",
    "    def transpose(self):\n",
    "        num_rows, num_cols = self.shape()\n",
    "        transposed_data = [[self.data[j][i] for j in range(num_rows)] for i in range(num_cols)]\n",
    "        return Matrix(transposed_data)\n",
    "\n",
    "    def row(self, n):\n",
    "        return Matrix([self.data[n]])\n",
    "\n",
    "    def column(self, n):\n",
    "        num_rows = len(self.data)\n",
    "        column_data = [[self.data[i][n]] for i in range(num_rows)]\n",
    "        return Matrix(column_data)\n",
    "\n",
    "    def to_list(self):\n",
    "        return self.data\n",
    "\n",
    "    def block(self, n_0, n_1, m_0, m_1):  \n",
    "        block_data = [row[n_0:n_1] for row in self.data[m_0:m_1]]\n",
    "        return Matrix(block_data)\n",
    "\n",
    "# modified getitem\n",
    "    def __getitem__(self, index):\n",
    "        if isinstance(index, tuple):\n",
    "            row_index, col_index = index\n",
    "            if isinstance(row_index, slice) or isinstance(col_index, slice):\n",
    "                # Handle slicing\n",
    "                rows = self.data[row_index]\n",
    "                if isinstance(col_index, slice):\n",
    "                    return [row[col_index] for row in rows]\n",
    "                else:\n",
    "                    return [row[col_index] for row in rows]\n",
    "            else:\n",
    "                # Handle regular indexing\n",
    "                return self.data[row_index][col_index]\n",
    "        else:\n",
    "            return self.data[index]\n"
   ]
  },
  {
   "cell_type": "code",
   "execution_count": 16,
   "metadata": {},
   "outputs": [
    {
     "name": "stdout",
     "output_type": "stream",
     "text": [
      "(2, 3)\n"
     ]
    }
   ],
   "source": [
    "# shape()\n",
    "matrix = Matrix([[1, 2, 3], [4, 5, 6]])\n",
    "print(matrix.shape()) "
   ]
  },
  {
   "cell_type": "code",
   "execution_count": 17,
   "metadata": {},
   "outputs": [
    {
     "name": "stdout",
     "output_type": "stream",
     "text": [
      "[[1, 4], [2, 5], [3, 6]]\n"
     ]
    }
   ],
   "source": [
    "# transpose ()\n",
    "transposed_matrix = matrix.transpose()\n",
    "print(transposed_matrix)"
   ]
  },
  {
   "cell_type": "code",
   "execution_count": 18,
   "metadata": {},
   "outputs": [
    {
     "name": "stdout",
     "output_type": "stream",
     "text": [
      "[[4, 5, 6]]\n",
      "[[1], [4]]\n"
     ]
    }
   ],
   "source": [
    "# row(n) and column(n)\n",
    "row_matrix = matrix.row(1)\n",
    "print(row_matrix)  \n",
    "col_matrix = matrix.column(0)\n",
    "print(col_matrix)"
   ]
  },
  {
   "cell_type": "code",
   "execution_count": 19,
   "metadata": {},
   "outputs": [
    {
     "name": "stdout",
     "output_type": "stream",
     "text": [
      "[[1, 2, 3], [4, 5, 6]]\n"
     ]
    }
   ],
   "source": [
    "# to_list()\n",
    "matrix_list = matrix.to_list()\n",
    "print(matrix_list)"
   ]
  },
  {
   "cell_type": "code",
   "execution_count": 20,
   "metadata": {},
   "outputs": [
    {
     "name": "stdout",
     "output_type": "stream",
     "text": [
      "[[2, 3], [5, 6]]\n"
     ]
    }
   ],
   "source": [
    "# block()\n",
    "block_matrix = matrix.block(1, 3, 0, 2)\n",
    "print(block_matrix)"
   ]
  },
  {
   "cell_type": "code",
   "execution_count": 21,
   "metadata": {},
   "outputs": [
    {
     "name": "stdout",
     "output_type": "stream",
     "text": [
      "[[2, 3], [5, 6]]\n"
     ]
    }
   ],
   "source": [
    "# slicing\n",
    "sub_matrix = matrix[0:2, 1:3]\n",
    "print(sub_matrix)"
   ]
  },
  {
   "cell_type": "code",
   "execution_count": null,
   "metadata": {},
   "outputs": [],
   "source": []
  },
  {
   "cell_type": "markdown",
   "metadata": {},
   "source": [
    "3. Write functions that create special matrices (note these are standalone functions, not member functions of your `matrix` class):\n",
    "    * `constant(n,m,c)`: returns a `n` by `m` matrix filled with floats of value `c`.\n",
    "    * `zeros(n,m)` and `ones(n,m)`: return `n` by `m` matrices filled with floats of value `0` and `1`, respectively.\n",
    "    * `eye(n)`: returns the n by n identity matrix."
   ]
  },
  {
   "cell_type": "code",
   "execution_count": 22,
   "metadata": {},
   "outputs": [],
   "source": [
    "def constant(n, m, c):\n",
    "    # n x m matrix filled with the constant value c\n",
    "    return Matrix([[float(c) for _ in range(m)] for _ in range(n)])\n",
    "\n",
    "def zeros(n, m):\n",
    "    # n x m matrix filled with zeros\n",
    "    return Matrix([[0.0 for _ in range(m)] for _ in range(n)])\n",
    "\n",
    "def ones(n, m):\n",
    "    #n x m matrix filled with ones\n",
    "    return Matrix([[1.0 for _ in range(m)] for _ in range(n)])\n",
    "\n",
    "def eye(n):\n",
    "    # n x n identity matrix.\n",
    "    return Matrix([[1.0 if i == j else 0.0 for j in range(n)] for i in range(n)])"
   ]
  },
  {
   "cell_type": "code",
   "execution_count": 23,
   "metadata": {},
   "outputs": [
    {
     "name": "stdout",
     "output_type": "stream",
     "text": [
      "Constant matrix:\n",
      " [[2.0, 2.0, 2.0], [2.0, 2.0, 2.0]]\n",
      "\n",
      "Zero matrix:\n",
      " [[0.0, 0.0, 0.0], [0.0, 0.0, 0.0]]\n",
      "\n",
      "Matrix with only ones:\n",
      " [[1.0, 1.0, 1.0], [1.0, 1.0, 1.0]]\n",
      "\n",
      "Identity matrix:\n",
      " [[1.0, 0.0, 0.0], [0.0, 1.0, 0.0], [0.0, 0.0, 1.0]]\n"
     ]
    }
   ],
   "source": [
    "# 2x3 matrix filled with 2\n",
    "matrix_const = constant(2, 3, 2) \n",
    "print(\"Constant matrix:\\n\", matrix_const)  \n",
    "\n",
    "# 2x3 matrix filled with zeros\n",
    "matrix_zeros = zeros(2,3)\n",
    "print(\"\\nZero matrix:\\n\", matrix_zeros) \n",
    "\n",
    "# 2x3 matrix filled with ones\n",
    "matrix_ones = ones(2, 3)\n",
    "print(\"\\nMatrix with only ones:\\n\",matrix_ones)  \n",
    "\n",
    "# 3x3 identity matrix\n",
    "matrix_eye = eye(3)\n",
    "print(\"\\nIdentity matrix:\\n\",matrix_eye) "
   ]
  },
  {
   "cell_type": "code",
   "execution_count": null,
   "metadata": {},
   "outputs": [],
   "source": []
  },
  {
   "cell_type": "markdown",
   "metadata": {},
   "source": [
    "4. Add the following member functions to your class. Make sure to appropriately test the dimensions of the matrices to make sure the operations are correct.\n",
    "    * `M.scalarmul(c)`: a matrix that is scalar product $cM$, where every element of $M$ is multiplied by $c$.\n",
    "    * `M.add(N)`: adds two matrices $M$ and $N$. Don’t forget to test that the sizes of the matrices are compatible for this and all other operations.\n",
    "    * `M.sub(N)`: subtracts two matrices $M$ and $N$.\n",
    "    * `M.mat_mult(N)`: returns a matrix that is the matrix product of two matrices $M$ and $N$.\n",
    "    * `M.element_mult(N)`: returns a matrix that is the element-wise product of two matrices $M$ and $N$.\n",
    "    * `M.equals(N)`: returns true/false if $M==N$."
   ]
  },
  {
   "cell_type": "code",
   "execution_count": 24,
   "metadata": {},
   "outputs": [],
   "source": [
    "class Matrix:\n",
    "    def __init__(self, *args):\n",
    "        if len(args) == 2:\n",
    "            # Initialization size n,m\n",
    "            n, m = args\n",
    "            self.data = [[0 for _ in range(m)] for _ in range(n)]\n",
    "        elif len(args) == 1:\n",
    "            # Initialization with a list of lists\n",
    "            data = args[0]\n",
    "            num_cols = len(data[0]) if data else 0\n",
    "            if not all(len(row) == num_cols for row in data):\n",
    "                raise ValueError(\"Invalid matrix: Rows different lengths.\")\n",
    "            self.data = data\n",
    "        else:\n",
    "            raise ValueError(\"Invalid number of args for initialization.\")\n",
    "    def __setitem__(self, index, value):\n",
    "        if isinstance(index, tuple):\n",
    "            row, col = index\n",
    "            self.data[row][col] = value\n",
    "        else:\n",
    "            self.data[index] = value\n",
    "    def __eq__(self, other):\n",
    "        if isinstance(other, Matrix):\n",
    "            return self.data == other.data\n",
    "        return False\n",
    "    def __repr__(self):\n",
    "        return str(self.data)\n",
    "    def shape(self):\n",
    "        num_rows = len(self.data)\n",
    "        num_cols = len(self.data[0]) if num_rows > 0 else 0  \n",
    "        return (num_rows, num_cols)\n",
    "    def transpose(self):\n",
    "        num_rows, num_cols = self.shape()\n",
    "        transposed_data = [[self.data[j][i] for j in range(num_rows)] for i in range(num_cols)]\n",
    "        return Matrix(transposed_data)\n",
    "    def row(self, n):\n",
    "        return Matrix([self.data[n]])\n",
    "    def column(self, n):\n",
    "        num_rows = len(self.data)\n",
    "        column_data = [[self.data[i][n]] for i in range(num_rows)]\n",
    "        return Matrix(column_data)\n",
    "    def to_list(self):\n",
    "        return self.data\n",
    "    def block(self, n_0, n_1, m_0, m_1):  \n",
    "        block_data = [row[n_0:n_1] for row in self.data[m_0:m_1]]\n",
    "        return Matrix(block_data)\n",
    "    def __getitem__(self, index):\n",
    "        if isinstance(index, tuple):\n",
    "            row_index, col_index = index\n",
    "            if isinstance(row_index, slice) or isinstance(col_index, slice):\n",
    "                # Handle slicing\n",
    "                rows = self.data[row_index]\n",
    "                if isinstance(col_index, slice):\n",
    "                    return [row[col_index] for row in rows]\n",
    "                else:\n",
    "                    return [row[col_index] for row in rows]\n",
    "            else:\n",
    "                # Handle regular indexing\n",
    "                return self.data[row_index][col_index]\n",
    "        else:\n",
    "            return self.data[index]\n",
    "\n",
    "####### ex. 4\n",
    "\n",
    "    def scalarmul(self, c):\n",
    "        num_rows, num_cols = self.shape()\n",
    "        return Matrix([[self.data[i][j] * c for j in range(num_cols)] for i in range(num_rows)])\n",
    "\n",
    "    def add(self, other):\n",
    "        if self.shape() != other.shape():\n",
    "            raise ValueError(\"Matrices must have the same dimensions for addition.\")\n",
    "        num_rows, num_cols = self.shape()\n",
    "        return Matrix([[self.data[i][j] + other.data[i][j] for j in range(num_cols)] for i in range(num_rows)])\n",
    "\n",
    "    def sub(self, other):\n",
    "        if self.shape() != other.shape():\n",
    "            raise ValueError(\"Matrices must have the same dimensions for subtraction.\")\n",
    "        num_rows, num_cols = self.shape()\n",
    "        return Matrix([[self.data[i][j] - other.data[i][j] for j in range(num_cols)] for i in range(num_rows)])\n",
    "\n",
    "    def mat_mult(self, other):\n",
    "        rows_self, cols_self = self.shape()\n",
    "        rows_other, cols_other = other.shape()\n",
    "        if cols_self != rows_other:\n",
    "            raise ValueError(\"Incompatible matrix dimensions for multiplication.\")\n",
    "        result_data = [[0 for _ in range(cols_other)] for _ in range(rows_self)]\n",
    "        for i in range(rows_self):\n",
    "            for j in range(cols_other):\n",
    "                for k in range(cols_self):  # Or rows_other\n",
    "                    result_data[i][j] += self.data[i][k] * other.data[k][j]\n",
    "        return Matrix(result_data)\n",
    "\n",
    "    def element_mult(self, other):\n",
    "        if self.shape() != other.shape():\n",
    "            raise ValueError(\"Matrices must have the same dimensions for element-wise multiplication.\")\n",
    "        num_rows, num_cols = self.shape()\n",
    "        return Matrix([[self.data[i][j] * other.data[i][j] for j in range(num_cols)] for i in range(num_rows)])\n",
    "\n",
    "    def equals(self, other):\n",
    "        return self == other\n"
   ]
  },
  {
   "cell_type": "code",
   "execution_count": 36,
   "metadata": {},
   "outputs": [
    {
     "name": "stdout",
     "output_type": "stream",
     "text": [
      "Matrix 1 scaled by 2:\n",
      " [[2, 4, 6], [8, 10, 12]]\n",
      "\n",
      "Matrix 1 + matrix 2:\n",
      " [[8, 10, 12], [14, 16, 18]]\n",
      "\n",
      "Matrix 1 - Matrix 2:\n",
      " [[-6, -6, -6], [-6, -6, -6]]\n",
      "\n",
      "Matrix 1 multiplied by Matrix 2:\n",
      " [[19, 22], [43, 50]]\n",
      "\n",
      "Matrix 1 element-wise multiplied by Matrix 2:\n",
      " [[7, 16, 27], [40, 55, 72]]\n",
      "\n",
      "Matrix 1 equals Matrix 2: False\n",
      "Matrix 1 equals Matrix 1: True\n"
     ]
    }
   ],
   "source": [
    "m1 = Matrix([[1, 2, 3], [4, 5, 6]])\n",
    "m2 = Matrix([[7, 8, 9], [10, 11, 12]])\n",
    "\n",
    "# M.scalarmul(c)\n",
    "m3 = m1.scalarmul(2)\n",
    "print(\"Matrix 1 scaled by 2:\\n\", m3)  \n",
    "\n",
    "# M.add(N)\n",
    "m4= m1.add(m2)\n",
    "print(\"\\nMatrix 1 + matrix 2:\\n\", m4)\n",
    "\n",
    "# M.sub(N)\n",
    "m5 = m1.sub(m2)\n",
    "print(\"\\nMatrix 1 - Matrix 2:\\n\", m5)  \n",
    "\n",
    "# M.mat_mult(N)\n",
    "result_matrix = m8.mat_mult(m9)\n",
    "print(\"\\nMatrix 1 multiplied by Matrix 2:\\n\", result_matrix) \n",
    "\n",
    "# M.element_mult(N)\n",
    "m7= m1.element_mult(m2)\n",
    "print(\"\\nMatrix 1 element-wise multiplied by Matrix 2:\\n\", m7)  \n",
    "\n",
    "# M.equals(N)\n",
    "print(\"\\nMatrix 1 equals Matrix 2:\", m1.equals(m2))  \n",
    "print(\"Matrix 1 equals Matrix 1:\", m1.equals(m1)) \n"
   ]
  },
  {
   "cell_type": "code",
   "execution_count": null,
   "metadata": {},
   "outputs": [],
   "source": []
  },
  {
   "cell_type": "markdown",
   "metadata": {},
   "source": [
    "5. Overload python operators to appropriately use your functions in 4 and allow expressions like:\n",
    "    * 2*M\n",
    "    * M*2\n",
    "    * M+N\n",
    "    * M-N\n",
    "    * M*N\n",
    "    * M==N\n",
    "    * M=N\n"
   ]
  },
  {
   "cell_type": "code",
   "execution_count": 37,
   "metadata": {},
   "outputs": [],
   "source": [
    "class Matrix:\n",
    "    def __init__(self, *args):\n",
    "        if len(args) == 2:\n",
    "            n, m = args\n",
    "            self.data = [[0 for _ in range(m)] for _ in range(n)]\n",
    "        elif len(args) == 1:\n",
    "            data = args[0]\n",
    "            num_cols = len(data[0]) if data else 0\n",
    "            if not all(len(row) == num_cols for row in data):\n",
    "                raise ValueError(\"Invalid matrix: Rows different lengths.\")\n",
    "            self.data = data\n",
    "        else:\n",
    "            raise ValueError(\"Invalid number of args for initialization.\")\n",
    "    def __getitem__(self, index):\n",
    "        if isinstance(index, tuple):\n",
    "            row_index, col_index = index\n",
    "            if isinstance(row_index, slice) or isinstance(col_index, slice):\n",
    "                rows = self.data[row_index]\n",
    "                if isinstance(col_index, slice):\n",
    "                    return [row[col_index] for row in rows]\n",
    "                else:\n",
    "                    return [row[col_index] for row in rows]\n",
    "            else:\n",
    "                return self.data[row_index][col_index]\n",
    "        else:\n",
    "            return self.data[index]\n",
    "    def __setitem__(self, index, value):\n",
    "        if isinstance(index, tuple):\n",
    "            row, col = index\n",
    "            self.data[row][col] = value\n",
    "        else:\n",
    "            self.data[index] = value\n",
    "    def __eq__(self, other):\n",
    "        if isinstance(other, Matrix):\n",
    "            return self.data == other.data\n",
    "        return False\n",
    "    def __repr__(self):\n",
    "        return str(self.data)\n",
    "    def shape(self):\n",
    "        num_rows = len(self.data)\n",
    "        num_cols = len(self.data[0]) if num_rows > 0 else 0\n",
    "        return (num_rows, num_cols)\n",
    "    def transpose(self):\n",
    "        num_rows, num_cols = self.shape()\n",
    "        transposed_data = [[self.data[j][i] for j in range(num_rows)] for i in range(num_cols)]\n",
    "        return Matrix(transposed_data)\n",
    "    def row(self, n):\n",
    "        return Matrix([self.data[n]])\n",
    "    def column(self, n):\n",
    "        num_rows = len(self.data)\n",
    "        column_data = [[self.data[i][n]] for i in range(num_rows)]\n",
    "        return Matrix(column_data)\n",
    "    def to_list(self):\n",
    "        return self.data\n",
    "    def block(self, n_0, n_1, m_0, m_1):\n",
    "        block_data = [row[n_0:n_1] for row in self.data[m_0:m_1]]\n",
    "        return Matrix(block_data)\n",
    "    def scalarmul(self, c):\n",
    "        num_rows, num_cols = self.shape()\n",
    "        return Matrix([[self.data[i][j] * c for j in range(num_cols)] for i in range(num_rows)])\n",
    "    def add(self, other):\n",
    "        if self.shape() != other.shape():\n",
    "            raise ValueError(\"Matrices must have the same dimensions for addition.\")\n",
    "        num_rows, num_cols = self.shape()\n",
    "        return Matrix([[self.data[i][j] + other.data[i][j] for j in range(num_cols)] for i in range(num_rows)])\n",
    "    def sub(self, other):\n",
    "        if self.shape() != other.shape():\n",
    "            raise ValueError(\"Matrices must have the same dimensions for subtraction.\")\n",
    "        num_rows, num_cols = self.shape()\n",
    "        return Matrix([[self.data[i][j] - other.data[i][j] for j in range(num_cols)] for i in range(num_rows)])\n",
    "    def mat_mult(self, other):\n",
    "        rows_self, cols_self = self.shape()\n",
    "        rows_other, cols_other = other.shape()\n",
    "        if cols_self != rows_other:\n",
    "            raise ValueError(\"Incompatible matrix dimensions for multiplication.\")\n",
    "        result_data = [[0 for _ in range(cols_other)] for _ in range(rows_self)]\n",
    "        for i in range(rows_self):\n",
    "            for j in range(cols_other):\n",
    "                for k in range(cols_self):  # Or rows_other\n",
    "                    result_data[i][j] += self.data[i][k] * other.data[k][j]\n",
    "        return Matrix(result_data)\n",
    "    def element_mult(self, other):\n",
    "        if self.shape() != other.shape():\n",
    "            raise ValueError(\"Matrices must have the same dimensions for element-wise multiplication.\")\n",
    "        num_rows, num_cols = self.shape()\n",
    "        return Matrix([[self.data[i][j] * other.data[i][j] for j in range(num_cols)] for i in range(num_rows)])\n",
    "    def equals(self, other):\n",
    "        return self == other\n",
    "\n",
    "## ex. 5\n",
    "    # Operator overloading\n",
    "    def __mul__(self, other):\n",
    "        if isinstance(other, (int, float)):\n",
    "            return self.scalarmul(other)\n",
    "        elif isinstance(other, Matrix):\n",
    "            return self.mat_mult(other)\n",
    "        else:\n",
    "            raise TypeError(\"operator error type for *\")\n",
    "\n",
    "    def __rmul__(self, other):\n",
    "        if isinstance(other, (int, float)):\n",
    "            return self.scalarmul(other)\n",
    "        else:\n",
    "            raise TypeError(\"operator error type for *\")\n",
    "\n",
    "    def __add__(self, other):\n",
    "        if isinstance(other, Matrix):\n",
    "            return self.add(other)\n",
    "        else:\n",
    "            raise TypeError(\"operator error typefor +\")\n",
    "\n",
    "    def __sub__(self, other):\n",
    "        if isinstance(other, Matrix):\n",
    "            return self.sub(other)\n",
    "        else:\n",
    "            raise TypeError(\"operator error type for -\")\n",
    "\n",
    "\n",
    "\n",
    "def constant(n, m, c):\n",
    "    return Matrix([[float(c) for _ in range(m)] for _ in range(n)])\n",
    "\n",
    "def zeros(n, m):\n",
    "    return Matrix([[0.0 for _ in range(m)] for _ in range(n)])\n",
    "\n",
    "def ones(n, m):\n",
    "    return Matrix([[1.0 for _ in range(m)] for _ in range(n)])\n",
    "\n",
    "def eye(n):\n",
    "    return Matrix([[1.0 if i == j else 0.0 for j in range(n)] for i in range(n)])"
   ]
  },
  {
   "cell_type": "code",
   "execution_count": 43,
   "metadata": {},
   "outputs": [
    {
     "name": "stdout",
     "output_type": "stream",
     "text": [
      "2 * Matrix1(m1):\n",
      " [[2, 4], [6, 8]]\n",
      "\n",
      "\n",
      "m1 * 2:\n",
      " [[2, 4], [6, 8]]\n",
      "\n",
      "\n",
      "m1 + Matrix2(m2):\n",
      " [[6, 8], [10, 12]]\n",
      "\n",
      "\n",
      "m1 - m2:\n",
      " [[-4, -4], [-4, -4]]\n",
      "\n",
      "\n",
      "m1 * m2:\n",
      " [[19, 22], [43, 50]]\n",
      "\n",
      "\n",
      "Is m1 equal to m2?: False\n",
      "\n",
      "\n",
      "Matrix 2 is now a copy of Matrix 1:\n",
      " [[1, 2], [3, 4]]\n",
      "True\n"
     ]
    }
   ],
   "source": [
    "m1 = Matrix([[1, 2], [3, 4]])\n",
    "m2 = Matrix([[5, 6], [7, 8]])\n",
    "\n",
    "# Operator overloading \n",
    "\n",
    "# 2M\n",
    "res1 = 2 * m1 \n",
    "print(\"2 * Matrix1(m1):\\n\", res1)  \n",
    "\n",
    "# M2\n",
    "res2 = m1 * 2  \n",
    "print(\"\\n\\nm1 * 2:\\n\", res2)  \n",
    "\n",
    "# M+N\n",
    "res3 = m1 + m2  \n",
    "print(\"\\n\\nm1 + Matrix2(m2):\\n\", res3)  \n",
    "\n",
    "# M-N\n",
    "res4 = m1 - m2  \n",
    "print(\"\\n\\nm1 - m2:\\n\", res4)  \n",
    "\n",
    "# M*N\n",
    "res5 = m1 * m2  \n",
    "print(\"\\n\\nm1 * m2:\\n\", res5)\n",
    "\n",
    "# M==N\n",
    "print(\"\\n\\nIs m1 equal to m2?:\", m1 == m2) \n",
    "\n",
    "# M=N\n",
    "m2=m1\n",
    "print(\"\\n\\nMatrix 2 is now a copy of Matrix 1:\\n\", m2)\n",
    "print(m1==m2)"
   ]
  },
  {
   "cell_type": "code",
   "execution_count": null,
   "metadata": {},
   "outputs": [],
   "source": []
  },
  {
   "cell_type": "markdown",
   "metadata": {},
   "source": [
    "6. Demonstrate the basic properties of matrices with your matrix class by creating two 2 by 2 example matrices using your Matrix class and illustrating the following:\n",
    "\n",
    "$$\n",
    "(AB)C=A(BC)\n",
    "$$\n",
    "$$\n",
    "A(B+C)=AB+AC\n",
    "$$\n",
    "$$\n",
    "AB\\neq BA\n",
    "$$\n",
    "$$\n",
    "AI=A\n",
    "$$"
   ]
  },
  {
   "cell_type": "code",
   "execution_count": 51,
   "metadata": {},
   "outputs": [
    {
     "name": "stdout",
     "output_type": "stream",
     "text": [
      "(AB)C:\n",
      " [[413, 454], [937, 1030]]\n",
      "\n",
      "A(BC):\n",
      " [[413, 454], [937, 1030]]\n",
      "\n",
      "(AB)C == A(BC): True\n"
     ]
    }
   ],
   "source": [
    "A = Matrix([[1, 2], [3, 4]])\n",
    "B = Matrix([[5, 6], [7, 8]])\n",
    "C = Matrix([[9, 10], [11, 12]])\n",
    "\n",
    "# (AB)C = A(BC)\n",
    "result1 = (A * B) * C\n",
    "result2 = A * (B * C)\n",
    "print(\"(AB)C:\\n\",result1)\n",
    "print(\"\\nA(BC):\\n\",result2)  \n",
    "print(\"\\n(AB)C == A(BC):\",result1.equals(result2)) \n"
   ]
  },
  {
   "cell_type": "code",
   "execution_count": 47,
   "metadata": {},
   "outputs": [
    {
     "name": "stdout",
     "output_type": "stream",
     "text": [
      "A(B + C):\n",
      " [[50, 56], [114, 128]]\n",
      "\n",
      "AB + AC:\n",
      " [[50, 56], [114, 128]]\n",
      "\n",
      "A(B + C) == AB + AC:\n",
      " True\n"
     ]
    }
   ],
   "source": [
    "# A(B + C) = AB + AC \n",
    "result3 = A * (B + C)\n",
    "result4 = (A * B) + (A * C)\n",
    "print(\"A(B + C):\\n\",result3)\n",
    "print(\"\\nAB + AC:\\n\",result4)  \n",
    "print(\"\\nA(B + C) == AB + AC:\\n\",result3.equals(result4)) "
   ]
  },
  {
   "cell_type": "code",
   "execution_count": 48,
   "metadata": {},
   "outputs": [
    {
     "name": "stdout",
     "output_type": "stream",
     "text": [
      "AB:\n",
      " [[19, 22], [43, 50]]\n",
      "\n",
      "BA:\n",
      " [[23, 34], [31, 46]]\n",
      "\n",
      "AB == BA: False\n"
     ]
    }
   ],
   "source": [
    "# AB ≠ BA \n",
    "result5 = A * B\n",
    "result6 = B * A\n",
    "print(\"AB:\\n\",result5)\n",
    "print(\"\\nBA:\\n\",result6)  \n",
    "print(\"\\nAB == BA:\", result5.equals(result6))  "
   ]
  },
  {
   "cell_type": "code",
   "execution_count": 49,
   "metadata": {},
   "outputs": [
    {
     "name": "stdout",
     "output_type": "stream",
     "text": [
      "AI:\n",
      " [[1.0, 2.0], [3.0, 4.0]]\n",
      "\n",
      "AI == A: True\n"
     ]
    }
   ],
   "source": [
    "# AI = A \n",
    "I = eye(2) \n",
    "result7 = A * I\n",
    "print(\"AI:\\n\",result7)\n",
    "print(\"\\nAI == A:\", result7.equals(A))"
   ]
  },
  {
   "cell_type": "code",
   "execution_count": null,
   "metadata": {},
   "outputs": [],
   "source": []
  }
 ],
 "metadata": {
  "kernelspec": {
   "display_name": "Python 3 (ipykernel)",
   "language": "python",
   "name": "python3"
  },
  "language_info": {
   "codemirror_mode": {
    "name": "ipython",
    "version": 3
   },
   "file_extension": ".py",
   "mimetype": "text/x-python",
   "name": "python",
   "nbconvert_exporter": "python",
   "pygments_lexer": "ipython3",
   "version": "3.13.1"
  }
 },
 "nbformat": 4,
 "nbformat_minor": 4
}
